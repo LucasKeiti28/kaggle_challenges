{
 "cells": [
  {
   "cell_type": "markdown",
   "id": "trying-senator",
   "metadata": {},
   "source": [
    "# KDD Cup 2009\n",
    "https://www.kaggle.com/yasmino/kdd-cup-2009-data-analysis"
   ]
  },
  {
   "cell_type": "markdown",
   "id": "accessible-establishment",
   "metadata": {},
   "source": [
    "## Step 1: Modeling Churn\n",
    "Customer churn is when an existing customer, user, player, subscriber or any kind of return client stops doing business or ends the relationship with a company."
   ]
  },
  {
   "cell_type": "code",
   "execution_count": 139,
   "id": "danish-evidence",
   "metadata": {
    "ExecuteTime": {
     "end_time": "2021-09-06T15:28:07.652126Z",
     "start_time": "2021-09-06T15:28:07.646922Z"
    }
   },
   "outputs": [],
   "source": [
    "# imports\n",
    "import pandas as pd\n",
    "import numpy as np\n",
    "from matplotlib import pyplot as plt\n",
    "from sklearn.ensemble import ExtraTreesClassifier, RandomForestClassifier, GradientBoostingClassifier\n",
    "from sklearn.model_selection import train_test_split, cross_val_score, GridSearchCV\n",
    "from sklearn.metrics import roc_auc_score"
   ]
  },
  {
   "cell_type": "markdown",
   "id": "external-formula",
   "metadata": {
    "heading_collapsed": true
   },
   "source": [
    "### Loading Data"
   ]
  },
  {
   "cell_type": "code",
   "execution_count": 2,
   "id": "cooked-velvet",
   "metadata": {
    "ExecuteTime": {
     "end_time": "2021-09-06T13:39:58.392642Z",
     "start_time": "2021-09-06T13:39:57.319841Z"
    },
    "hidden": true
   },
   "outputs": [],
   "source": [
    "df_features = pd.read_csv('../kaggle_database/course1/kdd/orange_small_train.data', sep='\\t', na_filter=False)\n",
    "df_labels = pd.read_csv('../kaggle_database//course1/kdd/orange_small_train_churn.labels', header=None)"
   ]
  },
  {
   "cell_type": "code",
   "execution_count": 3,
   "id": "mysterious-disclaimer",
   "metadata": {
    "ExecuteTime": {
     "end_time": "2021-09-06T13:39:58.399167Z",
     "start_time": "2021-09-06T13:39:58.393817Z"
    },
    "hidden": true
   },
   "outputs": [
    {
     "data": {
      "text/plain": [
       "((50000, 230), (50000, 1))"
      ]
     },
     "execution_count": 3,
     "metadata": {},
     "output_type": "execute_result"
    }
   ],
   "source": [
    "df_features.shape, df_labels.shape"
   ]
  },
  {
   "cell_type": "code",
   "execution_count": 4,
   "id": "instant-argument",
   "metadata": {
    "ExecuteTime": {
     "end_time": "2021-09-06T13:39:58.427276Z",
     "start_time": "2021-09-06T13:39:58.400472Z"
    },
    "hidden": true
   },
   "outputs": [
    {
     "data": {
      "text/html": [
       "<div>\n",
       "<style scoped>\n",
       "    .dataframe tbody tr th:only-of-type {\n",
       "        vertical-align: middle;\n",
       "    }\n",
       "\n",
       "    .dataframe tbody tr th {\n",
       "        vertical-align: top;\n",
       "    }\n",
       "\n",
       "    .dataframe thead th {\n",
       "        text-align: right;\n",
       "    }\n",
       "</style>\n",
       "<table border=\"1\" class=\"dataframe\">\n",
       "  <thead>\n",
       "    <tr style=\"text-align: right;\">\n",
       "      <th></th>\n",
       "      <th>Var1</th>\n",
       "      <th>Var2</th>\n",
       "      <th>Var3</th>\n",
       "      <th>Var4</th>\n",
       "      <th>Var5</th>\n",
       "      <th>Var6</th>\n",
       "      <th>Var7</th>\n",
       "      <th>Var8</th>\n",
       "      <th>Var9</th>\n",
       "      <th>Var10</th>\n",
       "      <th>...</th>\n",
       "      <th>Var221</th>\n",
       "      <th>Var222</th>\n",
       "      <th>Var223</th>\n",
       "      <th>Var224</th>\n",
       "      <th>Var225</th>\n",
       "      <th>Var226</th>\n",
       "      <th>Var227</th>\n",
       "      <th>Var228</th>\n",
       "      <th>Var229</th>\n",
       "      <th>Var230</th>\n",
       "    </tr>\n",
       "  </thead>\n",
       "  <tbody>\n",
       "    <tr>\n",
       "      <th>0</th>\n",
       "      <td></td>\n",
       "      <td></td>\n",
       "      <td></td>\n",
       "      <td></td>\n",
       "      <td></td>\n",
       "      <td>1526</td>\n",
       "      <td>7</td>\n",
       "      <td></td>\n",
       "      <td></td>\n",
       "      <td></td>\n",
       "      <td>...</td>\n",
       "      <td>oslk</td>\n",
       "      <td>fXVEsaq</td>\n",
       "      <td>jySVZNlOJy</td>\n",
       "      <td></td>\n",
       "      <td></td>\n",
       "      <td>xb3V</td>\n",
       "      <td>RAYp</td>\n",
       "      <td>F2FyR07IdsN7I</td>\n",
       "      <td></td>\n",
       "      <td></td>\n",
       "    </tr>\n",
       "    <tr>\n",
       "      <th>1</th>\n",
       "      <td></td>\n",
       "      <td></td>\n",
       "      <td></td>\n",
       "      <td></td>\n",
       "      <td></td>\n",
       "      <td>525</td>\n",
       "      <td>0</td>\n",
       "      <td></td>\n",
       "      <td></td>\n",
       "      <td></td>\n",
       "      <td>...</td>\n",
       "      <td>oslk</td>\n",
       "      <td>2Kb5FSF</td>\n",
       "      <td>LM8l689qOp</td>\n",
       "      <td></td>\n",
       "      <td></td>\n",
       "      <td>fKCe</td>\n",
       "      <td>RAYp</td>\n",
       "      <td>F2FyR07IdsN7I</td>\n",
       "      <td></td>\n",
       "      <td></td>\n",
       "    </tr>\n",
       "    <tr>\n",
       "      <th>2</th>\n",
       "      <td></td>\n",
       "      <td></td>\n",
       "      <td></td>\n",
       "      <td></td>\n",
       "      <td></td>\n",
       "      <td>5236</td>\n",
       "      <td>7</td>\n",
       "      <td></td>\n",
       "      <td></td>\n",
       "      <td></td>\n",
       "      <td>...</td>\n",
       "      <td>Al6ZaUT</td>\n",
       "      <td>NKv4yOc</td>\n",
       "      <td>jySVZNlOJy</td>\n",
       "      <td></td>\n",
       "      <td>kG3k</td>\n",
       "      <td>Qu4f</td>\n",
       "      <td>02N6s8f</td>\n",
       "      <td>ib5G6X1eUxUn6</td>\n",
       "      <td>am7c</td>\n",
       "      <td></td>\n",
       "    </tr>\n",
       "    <tr>\n",
       "      <th>3</th>\n",
       "      <td></td>\n",
       "      <td></td>\n",
       "      <td></td>\n",
       "      <td></td>\n",
       "      <td></td>\n",
       "      <td></td>\n",
       "      <td>0</td>\n",
       "      <td></td>\n",
       "      <td></td>\n",
       "      <td></td>\n",
       "      <td>...</td>\n",
       "      <td>oslk</td>\n",
       "      <td>CE7uk3u</td>\n",
       "      <td>LM8l689qOp</td>\n",
       "      <td></td>\n",
       "      <td></td>\n",
       "      <td>FSa2</td>\n",
       "      <td>RAYp</td>\n",
       "      <td>F2FyR07IdsN7I</td>\n",
       "      <td></td>\n",
       "      <td></td>\n",
       "    </tr>\n",
       "    <tr>\n",
       "      <th>4</th>\n",
       "      <td></td>\n",
       "      <td></td>\n",
       "      <td></td>\n",
       "      <td></td>\n",
       "      <td></td>\n",
       "      <td>1029</td>\n",
       "      <td>7</td>\n",
       "      <td></td>\n",
       "      <td></td>\n",
       "      <td></td>\n",
       "      <td>...</td>\n",
       "      <td>oslk</td>\n",
       "      <td>1J2cvxe</td>\n",
       "      <td>LM8l689qOp</td>\n",
       "      <td></td>\n",
       "      <td>kG3k</td>\n",
       "      <td>FSa2</td>\n",
       "      <td>RAYp</td>\n",
       "      <td>F2FyR07IdsN7I</td>\n",
       "      <td>mj86</td>\n",
       "      <td></td>\n",
       "    </tr>\n",
       "  </tbody>\n",
       "</table>\n",
       "<p>5 rows × 230 columns</p>\n",
       "</div>"
      ],
      "text/plain": [
       "  Var1 Var2 Var3 Var4 Var5  Var6 Var7 Var8 Var9 Var10  ...   Var221   Var222  \\\n",
       "0                           1526    7                  ...     oslk  fXVEsaq   \n",
       "1                            525    0                  ...     oslk  2Kb5FSF   \n",
       "2                           5236    7                  ...  Al6ZaUT  NKv4yOc   \n",
       "3                                   0                  ...     oslk  CE7uk3u   \n",
       "4                           1029    7                  ...     oslk  1J2cvxe   \n",
       "\n",
       "       Var223 Var224 Var225 Var226   Var227         Var228 Var229 Var230  \n",
       "0  jySVZNlOJy                 xb3V     RAYp  F2FyR07IdsN7I                \n",
       "1  LM8l689qOp                 fKCe     RAYp  F2FyR07IdsN7I                \n",
       "2  jySVZNlOJy          kG3k   Qu4f  02N6s8f  ib5G6X1eUxUn6   am7c         \n",
       "3  LM8l689qOp                 FSa2     RAYp  F2FyR07IdsN7I                \n",
       "4  LM8l689qOp          kG3k   FSa2     RAYp  F2FyR07IdsN7I   mj86         \n",
       "\n",
       "[5 rows x 230 columns]"
      ]
     },
     "execution_count": 4,
     "metadata": {},
     "output_type": "execute_result"
    }
   ],
   "source": [
    "df_features.head()"
   ]
  },
  {
   "cell_type": "code",
   "execution_count": 5,
   "id": "suburban-carbon",
   "metadata": {
    "ExecuteTime": {
     "end_time": "2021-09-06T13:39:58.435642Z",
     "start_time": "2021-09-06T13:39:58.428563Z"
    },
    "hidden": true
   },
   "outputs": [
    {
     "data": {
      "text/html": [
       "<div>\n",
       "<style scoped>\n",
       "    .dataframe tbody tr th:only-of-type {\n",
       "        vertical-align: middle;\n",
       "    }\n",
       "\n",
       "    .dataframe tbody tr th {\n",
       "        vertical-align: top;\n",
       "    }\n",
       "\n",
       "    .dataframe thead th {\n",
       "        text-align: right;\n",
       "    }\n",
       "</style>\n",
       "<table border=\"1\" class=\"dataframe\">\n",
       "  <thead>\n",
       "    <tr style=\"text-align: right;\">\n",
       "      <th></th>\n",
       "      <th>0</th>\n",
       "    </tr>\n",
       "  </thead>\n",
       "  <tbody>\n",
       "    <tr>\n",
       "      <th>0</th>\n",
       "      <td>-1</td>\n",
       "    </tr>\n",
       "    <tr>\n",
       "      <th>1</th>\n",
       "      <td>1</td>\n",
       "    </tr>\n",
       "    <tr>\n",
       "      <th>2</th>\n",
       "      <td>-1</td>\n",
       "    </tr>\n",
       "    <tr>\n",
       "      <th>3</th>\n",
       "      <td>-1</td>\n",
       "    </tr>\n",
       "    <tr>\n",
       "      <th>4</th>\n",
       "      <td>-1</td>\n",
       "    </tr>\n",
       "  </tbody>\n",
       "</table>\n",
       "</div>"
      ],
      "text/plain": [
       "   0\n",
       "0 -1\n",
       "1  1\n",
       "2 -1\n",
       "3 -1\n",
       "4 -1"
      ]
     },
     "execution_count": 5,
     "metadata": {},
     "output_type": "execute_result"
    }
   ],
   "source": [
    "df_labels.head()"
   ]
  },
  {
   "cell_type": "code",
   "execution_count": 6,
   "id": "infrared-objective",
   "metadata": {
    "ExecuteTime": {
     "end_time": "2021-09-06T13:39:58.441100Z",
     "start_time": "2021-09-06T13:39:58.437123Z"
    },
    "hidden": true
   },
   "outputs": [
    {
     "data": {
      "text/plain": [
       "array([-1,  1])"
      ]
     },
     "execution_count": 6,
     "metadata": {},
     "output_type": "execute_result"
    }
   ],
   "source": [
    "# Show the unique values\n",
    "np.unique(df_labels)"
   ]
  },
  {
   "cell_type": "markdown",
   "id": "qualified-maldives",
   "metadata": {
    "heading_collapsed": true
   },
   "source": [
    "### Identifying numerical and categorical variables"
   ]
  },
  {
   "cell_type": "code",
   "execution_count": 7,
   "id": "orange-grammar",
   "metadata": {
    "ExecuteTime": {
     "end_time": "2021-09-06T13:39:58.448553Z",
     "start_time": "2021-09-06T13:39:58.443642Z"
    },
    "hidden": true
   },
   "outputs": [
    {
     "data": {
      "text/plain": [
       "array(['Var1', 'Var2', 'Var3', 'Var4', 'Var5', 'Var6', 'Var7', 'Var8',\n",
       "       'Var9', 'Var10', 'Var11', 'Var12', 'Var13', 'Var14', 'Var15',\n",
       "       'Var16', 'Var17', 'Var18', 'Var19', 'Var20', 'Var21', 'Var22',\n",
       "       'Var23', 'Var24', 'Var25', 'Var26', 'Var27', 'Var28', 'Var29',\n",
       "       'Var30', 'Var31', 'Var32', 'Var33', 'Var34', 'Var35', 'Var36',\n",
       "       'Var37', 'Var38', 'Var39', 'Var40', 'Var41', 'Var42', 'Var43',\n",
       "       'Var44', 'Var45', 'Var46', 'Var47', 'Var48', 'Var49', 'Var50',\n",
       "       'Var51', 'Var52', 'Var53', 'Var54', 'Var55', 'Var56', 'Var57',\n",
       "       'Var58', 'Var59', 'Var60', 'Var61', 'Var62', 'Var63', 'Var64',\n",
       "       'Var65', 'Var66', 'Var67', 'Var68', 'Var69', 'Var70', 'Var71',\n",
       "       'Var72', 'Var73', 'Var74', 'Var75', 'Var76', 'Var77', 'Var78',\n",
       "       'Var79', 'Var80', 'Var81', 'Var82', 'Var83', 'Var84', 'Var85',\n",
       "       'Var86', 'Var87', 'Var88', 'Var89', 'Var90', 'Var91', 'Var92',\n",
       "       'Var93', 'Var94', 'Var95', 'Var96', 'Var97', 'Var98', 'Var99',\n",
       "       'Var100', 'Var101', 'Var102', 'Var103', 'Var104', 'Var105',\n",
       "       'Var106', 'Var107', 'Var108', 'Var109', 'Var110', 'Var111',\n",
       "       'Var112', 'Var113', 'Var114', 'Var115', 'Var116', 'Var117',\n",
       "       'Var118', 'Var119', 'Var120', 'Var121', 'Var122', 'Var123',\n",
       "       'Var124', 'Var125', 'Var126', 'Var127', 'Var128', 'Var129',\n",
       "       'Var130', 'Var131', 'Var132', 'Var133', 'Var134', 'Var135',\n",
       "       'Var136', 'Var137', 'Var138', 'Var139', 'Var140', 'Var141',\n",
       "       'Var142', 'Var143', 'Var144', 'Var145', 'Var146', 'Var147',\n",
       "       'Var148', 'Var149', 'Var150', 'Var151', 'Var152', 'Var153',\n",
       "       'Var154', 'Var155', 'Var156', 'Var157', 'Var158', 'Var159',\n",
       "       'Var160', 'Var161', 'Var162', 'Var163', 'Var164', 'Var165',\n",
       "       'Var166', 'Var167', 'Var168', 'Var169', 'Var170', 'Var171',\n",
       "       'Var172', 'Var173', 'Var174', 'Var175', 'Var176', 'Var177',\n",
       "       'Var178', 'Var179', 'Var180', 'Var181', 'Var182', 'Var183',\n",
       "       'Var184', 'Var185', 'Var186', 'Var187', 'Var188', 'Var189',\n",
       "       'Var190', 'Var191', 'Var192', 'Var193', 'Var194', 'Var195',\n",
       "       'Var196', 'Var197', 'Var198', 'Var199', 'Var200', 'Var201',\n",
       "       'Var202', 'Var203', 'Var204', 'Var205', 'Var206', 'Var207',\n",
       "       'Var208', 'Var209', 'Var210', 'Var211', 'Var212', 'Var213',\n",
       "       'Var214', 'Var215', 'Var216', 'Var217', 'Var218', 'Var219',\n",
       "       'Var220', 'Var221', 'Var222', 'Var223', 'Var224', 'Var225',\n",
       "       'Var226', 'Var227', 'Var228', 'Var229', 'Var230'], dtype=object)"
      ]
     },
     "execution_count": 7,
     "metadata": {},
     "output_type": "execute_result"
    }
   ],
   "source": [
    "all_vars = np.array(df_features.columns)\n",
    "all_vars"
   ]
  },
  {
   "cell_type": "code",
   "execution_count": 8,
   "id": "dimensional-timeline",
   "metadata": {
    "ExecuteTime": {
     "end_time": "2021-09-06T13:39:58.453077Z",
     "start_time": "2021-09-06T13:39:58.449855Z"
    },
    "hidden": true
   },
   "outputs": [
    {
     "data": {
      "text/plain": [
       "array(['Var1', 'Var2', 'Var3', 'Var4', 'Var5', 'Var6', 'Var7', 'Var8',\n",
       "       'Var9', 'Var10', 'Var11', 'Var12', 'Var13', 'Var14', 'Var15',\n",
       "       'Var16', 'Var17', 'Var18', 'Var19', 'Var20', 'Var21', 'Var22',\n",
       "       'Var23', 'Var24', 'Var25', 'Var26', 'Var27', 'Var28', 'Var29',\n",
       "       'Var30', 'Var31', 'Var32', 'Var33', 'Var34', 'Var35', 'Var36',\n",
       "       'Var37', 'Var38', 'Var39', 'Var40', 'Var41', 'Var42', 'Var43',\n",
       "       'Var44', 'Var45', 'Var46', 'Var47', 'Var48', 'Var49', 'Var50',\n",
       "       'Var51', 'Var52', 'Var53', 'Var54', 'Var55', 'Var56', 'Var57',\n",
       "       'Var58', 'Var59', 'Var60', 'Var61', 'Var62', 'Var63', 'Var64',\n",
       "       'Var65', 'Var66', 'Var67', 'Var68', 'Var69', 'Var70', 'Var71',\n",
       "       'Var72', 'Var73', 'Var74', 'Var75', 'Var76', 'Var77', 'Var78',\n",
       "       'Var79', 'Var80', 'Var81', 'Var82', 'Var83', 'Var84', 'Var85',\n",
       "       'Var86', 'Var87', 'Var88', 'Var89', 'Var90', 'Var91', 'Var92',\n",
       "       'Var93', 'Var94', 'Var95', 'Var96', 'Var97', 'Var98', 'Var99',\n",
       "       'Var100', 'Var101', 'Var102', 'Var103', 'Var104', 'Var105',\n",
       "       'Var106', 'Var107', 'Var108', 'Var109', 'Var110', 'Var111',\n",
       "       'Var112', 'Var113', 'Var114', 'Var115', 'Var116', 'Var117',\n",
       "       'Var118', 'Var119', 'Var120', 'Var121', 'Var122', 'Var123',\n",
       "       'Var124', 'Var125', 'Var126', 'Var127', 'Var128', 'Var129',\n",
       "       'Var130', 'Var131', 'Var132', 'Var133', 'Var134', 'Var135',\n",
       "       'Var136', 'Var137', 'Var138', 'Var139', 'Var140', 'Var141',\n",
       "       'Var142', 'Var143', 'Var144', 'Var145', 'Var146', 'Var147',\n",
       "       'Var148', 'Var149', 'Var150', 'Var151', 'Var152', 'Var153',\n",
       "       'Var154', 'Var155', 'Var156', 'Var157', 'Var158', 'Var159',\n",
       "       'Var160', 'Var161', 'Var162', 'Var163', 'Var164', 'Var165',\n",
       "       'Var166', 'Var167', 'Var168', 'Var169', 'Var170', 'Var171',\n",
       "       'Var172', 'Var173', 'Var174', 'Var175', 'Var176', 'Var177',\n",
       "       'Var178', 'Var179', 'Var180', 'Var181', 'Var182', 'Var183',\n",
       "       'Var184', 'Var185', 'Var186', 'Var187', 'Var188', 'Var189',\n",
       "       'Var190'], dtype=object)"
      ]
     },
     "execution_count": 8,
     "metadata": {},
     "output_type": "execute_result"
    }
   ],
   "source": [
    "num_vars = np.array(all_vars[:190])\n",
    "num_vars"
   ]
  },
  {
   "cell_type": "code",
   "execution_count": 9,
   "id": "coated-warrant",
   "metadata": {
    "ExecuteTime": {
     "end_time": "2021-09-06T13:39:58.457083Z",
     "start_time": "2021-09-06T13:39:58.454070Z"
    },
    "hidden": true
   },
   "outputs": [
    {
     "data": {
      "text/plain": [
       "array(['Var191', 'Var192', 'Var193', 'Var194', 'Var195', 'Var196',\n",
       "       'Var197', 'Var198', 'Var199', 'Var200', 'Var201', 'Var202',\n",
       "       'Var203', 'Var204', 'Var205', 'Var206', 'Var207', 'Var208',\n",
       "       'Var209', 'Var210', 'Var211', 'Var212', 'Var213', 'Var214',\n",
       "       'Var215', 'Var216', 'Var217', 'Var218', 'Var219', 'Var220',\n",
       "       'Var221', 'Var222', 'Var223', 'Var224', 'Var225', 'Var226',\n",
       "       'Var227', 'Var228', 'Var229', 'Var230'], dtype=object)"
      ]
     },
     "execution_count": 9,
     "metadata": {},
     "output_type": "execute_result"
    }
   ],
   "source": [
    "cat_vars = np.array(all_vars[190:])\n",
    "cat_vars"
   ]
  },
  {
   "cell_type": "markdown",
   "id": "sunrise-upgrade",
   "metadata": {
    "heading_collapsed": true
   },
   "source": [
    "### Verifying the consistency of variables"
   ]
  },
  {
   "cell_type": "code",
   "execution_count": 10,
   "id": "formal-wisconsin",
   "metadata": {
    "ExecuteTime": {
     "end_time": "2021-09-06T13:39:58.462570Z",
     "start_time": "2021-09-06T13:39:58.457917Z"
    },
    "hidden": true
   },
   "outputs": [
    {
     "data": {
      "text/plain": [
       "Var1      object\n",
       "Var2      object\n",
       "Var3      object\n",
       "Var4      object\n",
       "Var5      object\n",
       "           ...  \n",
       "Var226    object\n",
       "Var227    object\n",
       "Var228    object\n",
       "Var229    object\n",
       "Var230    object\n",
       "Length: 230, dtype: object"
      ]
     },
     "execution_count": 10,
     "metadata": {},
     "output_type": "execute_result"
    }
   ],
   "source": [
    "# Ensure the variables numerics are numbers\n",
    "df_features.dtypes\n",
    "# dtypes are returni as objects"
   ]
  },
  {
   "cell_type": "code",
   "execution_count": 11,
   "id": "electronic-liberty",
   "metadata": {
    "ExecuteTime": {
     "end_time": "2021-09-06T13:39:58.471201Z",
     "start_time": "2021-09-06T13:39:58.463843Z"
    },
    "hidden": true
   },
   "outputs": [
    {
     "data": {
      "text/plain": [
       "Var1\n",
       "       49298\n",
       "0        380\n",
       "120        1\n",
       "128        2\n",
       "152        1\n",
       "16        81\n",
       "24        46\n",
       "32        23\n",
       "360        1\n",
       "392        1\n",
       "40        10\n",
       "48         6\n",
       "536        1\n",
       "56         5\n",
       "64         1\n",
       "680        1\n",
       "72         3\n",
       "8        138\n",
       "80         1\n",
       "dtype: int64"
      ]
     },
     "execution_count": 11,
     "metadata": {},
     "output_type": "execute_result"
    }
   ],
   "source": [
    "df_features.groupby('Var1').size()"
   ]
  },
  {
   "cell_type": "code",
   "execution_count": 12,
   "id": "republican-class",
   "metadata": {
    "ExecuteTime": {
     "end_time": "2021-09-06T13:40:25.426619Z",
     "start_time": "2021-09-06T13:39:58.472140Z"
    },
    "hidden": true
   },
   "outputs": [],
   "source": [
    "registers_per_column = pd.DataFrame()\n",
    "for col in num_vars:\n",
    "    feature_size = df_features.groupby(col).size()\n",
    "    registers_per_column = registers_per_column.append(feature_size, ignore_index=True)"
   ]
  },
  {
   "cell_type": "code",
   "execution_count": 13,
   "id": "opponent-rocket",
   "metadata": {
    "ExecuteTime": {
     "end_time": "2021-09-06T13:40:25.430206Z",
     "start_time": "2021-09-06T13:40:25.427649Z"
    },
    "hidden": true
   },
   "outputs": [
    {
     "data": {
      "text/plain": [
       "(190, 351788)"
      ]
     },
     "execution_count": 13,
     "metadata": {},
     "output_type": "execute_result"
    }
   ],
   "source": [
    "registers_per_column.shape"
   ]
  },
  {
   "cell_type": "code",
   "execution_count": 14,
   "id": "premier-induction",
   "metadata": {
    "ExecuteTime": {
     "end_time": "2021-09-06T13:40:25.501027Z",
     "start_time": "2021-09-06T13:40:25.431048Z"
    },
    "hidden": true
   },
   "outputs": [
    {
     "data": {
      "text/html": [
       "<div>\n",
       "<style scoped>\n",
       "    .dataframe tbody tr th:only-of-type {\n",
       "        vertical-align: middle;\n",
       "    }\n",
       "\n",
       "    .dataframe tbody tr th {\n",
       "        vertical-align: top;\n",
       "    }\n",
       "\n",
       "    .dataframe thead th {\n",
       "        text-align: right;\n",
       "    }\n",
       "</style>\n",
       "<table border=\"1\" class=\"dataframe\">\n",
       "  <thead>\n",
       "    <tr style=\"text-align: right;\">\n",
       "      <th></th>\n",
       "      <th></th>\n",
       "      <th>0</th>\n",
       "      <th>120</th>\n",
       "      <th>128</th>\n",
       "      <th>152</th>\n",
       "      <th>16</th>\n",
       "      <th>24</th>\n",
       "      <th>32</th>\n",
       "      <th>360</th>\n",
       "      <th>392</th>\n",
       "      <th>...</th>\n",
       "      <th>8900.46</th>\n",
       "      <th>920.88</th>\n",
       "      <th>9336.06</th>\n",
       "      <th>9379.709</th>\n",
       "      <th>9441.36</th>\n",
       "      <th>9607.05</th>\n",
       "      <th>966.15</th>\n",
       "      <th>9772.021</th>\n",
       "      <th>98.1</th>\n",
       "      <th>9857.88</th>\n",
       "    </tr>\n",
       "  </thead>\n",
       "  <tbody>\n",
       "    <tr>\n",
       "      <th>0</th>\n",
       "      <td>49298.0</td>\n",
       "      <td>380.0</td>\n",
       "      <td>1.0</td>\n",
       "      <td>2.0</td>\n",
       "      <td>1.0</td>\n",
       "      <td>81.0</td>\n",
       "      <td>46.0</td>\n",
       "      <td>23.0</td>\n",
       "      <td>1.0</td>\n",
       "      <td>1.0</td>\n",
       "      <td>...</td>\n",
       "      <td>NaN</td>\n",
       "      <td>NaN</td>\n",
       "      <td>NaN</td>\n",
       "      <td>NaN</td>\n",
       "      <td>NaN</td>\n",
       "      <td>NaN</td>\n",
       "      <td>NaN</td>\n",
       "      <td>NaN</td>\n",
       "      <td>NaN</td>\n",
       "      <td>NaN</td>\n",
       "    </tr>\n",
       "    <tr>\n",
       "      <th>1</th>\n",
       "      <td>48759.0</td>\n",
       "      <td>1240.0</td>\n",
       "      <td>NaN</td>\n",
       "      <td>NaN</td>\n",
       "      <td>NaN</td>\n",
       "      <td>NaN</td>\n",
       "      <td>NaN</td>\n",
       "      <td>NaN</td>\n",
       "      <td>NaN</td>\n",
       "      <td>NaN</td>\n",
       "      <td>...</td>\n",
       "      <td>NaN</td>\n",
       "      <td>NaN</td>\n",
       "      <td>NaN</td>\n",
       "      <td>NaN</td>\n",
       "      <td>NaN</td>\n",
       "      <td>NaN</td>\n",
       "      <td>NaN</td>\n",
       "      <td>NaN</td>\n",
       "      <td>NaN</td>\n",
       "      <td>NaN</td>\n",
       "    </tr>\n",
       "    <tr>\n",
       "      <th>2</th>\n",
       "      <td>48760.0</td>\n",
       "      <td>996.0</td>\n",
       "      <td>3.0</td>\n",
       "      <td>NaN</td>\n",
       "      <td>NaN</td>\n",
       "      <td>NaN</td>\n",
       "      <td>1.0</td>\n",
       "      <td>NaN</td>\n",
       "      <td>NaN</td>\n",
       "      <td>NaN</td>\n",
       "      <td>...</td>\n",
       "      <td>NaN</td>\n",
       "      <td>NaN</td>\n",
       "      <td>NaN</td>\n",
       "      <td>NaN</td>\n",
       "      <td>NaN</td>\n",
       "      <td>NaN</td>\n",
       "      <td>NaN</td>\n",
       "      <td>NaN</td>\n",
       "      <td>NaN</td>\n",
       "      <td>NaN</td>\n",
       "    </tr>\n",
       "    <tr>\n",
       "      <th>3</th>\n",
       "      <td>48421.0</td>\n",
       "      <td>1561.0</td>\n",
       "      <td>NaN</td>\n",
       "      <td>NaN</td>\n",
       "      <td>NaN</td>\n",
       "      <td>NaN</td>\n",
       "      <td>NaN</td>\n",
       "      <td>NaN</td>\n",
       "      <td>NaN</td>\n",
       "      <td>NaN</td>\n",
       "      <td>...</td>\n",
       "      <td>NaN</td>\n",
       "      <td>NaN</td>\n",
       "      <td>NaN</td>\n",
       "      <td>NaN</td>\n",
       "      <td>NaN</td>\n",
       "      <td>NaN</td>\n",
       "      <td>NaN</td>\n",
       "      <td>NaN</td>\n",
       "      <td>NaN</td>\n",
       "      <td>NaN</td>\n",
       "    </tr>\n",
       "    <tr>\n",
       "      <th>4</th>\n",
       "      <td>48513.0</td>\n",
       "      <td>898.0</td>\n",
       "      <td>NaN</td>\n",
       "      <td>NaN</td>\n",
       "      <td>NaN</td>\n",
       "      <td>NaN</td>\n",
       "      <td>NaN</td>\n",
       "      <td>NaN</td>\n",
       "      <td>NaN</td>\n",
       "      <td>NaN</td>\n",
       "      <td>...</td>\n",
       "      <td>NaN</td>\n",
       "      <td>NaN</td>\n",
       "      <td>NaN</td>\n",
       "      <td>NaN</td>\n",
       "      <td>NaN</td>\n",
       "      <td>NaN</td>\n",
       "      <td>NaN</td>\n",
       "      <td>NaN</td>\n",
       "      <td>NaN</td>\n",
       "      <td>NaN</td>\n",
       "    </tr>\n",
       "  </tbody>\n",
       "</table>\n",
       "<p>5 rows × 351788 columns</p>\n",
       "</div>"
      ],
      "text/plain": [
       "                 0  120  128  152    16    24    32  360  392  ...  8900.46  \\\n",
       "0  49298.0   380.0  1.0  2.0  1.0  81.0  46.0  23.0  1.0  1.0  ...      NaN   \n",
       "1  48759.0  1240.0  NaN  NaN  NaN   NaN   NaN   NaN  NaN  NaN  ...      NaN   \n",
       "2  48760.0   996.0  3.0  NaN  NaN   NaN   1.0   NaN  NaN  NaN  ...      NaN   \n",
       "3  48421.0  1561.0  NaN  NaN  NaN   NaN   NaN   NaN  NaN  NaN  ...      NaN   \n",
       "4  48513.0   898.0  NaN  NaN  NaN   NaN   NaN   NaN  NaN  NaN  ...      NaN   \n",
       "\n",
       "   920.88  9336.06  9379.709  9441.36  9607.05  966.15  9772.021  98.1  \\\n",
       "0     NaN      NaN       NaN      NaN      NaN     NaN       NaN   NaN   \n",
       "1     NaN      NaN       NaN      NaN      NaN     NaN       NaN   NaN   \n",
       "2     NaN      NaN       NaN      NaN      NaN     NaN       NaN   NaN   \n",
       "3     NaN      NaN       NaN      NaN      NaN     NaN       NaN   NaN   \n",
       "4     NaN      NaN       NaN      NaN      NaN     NaN       NaN   NaN   \n",
       "\n",
       "   9857.88  \n",
       "0      NaN  \n",
       "1      NaN  \n",
       "2      NaN  \n",
       "3      NaN  \n",
       "4      NaN  \n",
       "\n",
       "[5 rows x 351788 columns]"
      ]
     },
     "execution_count": 14,
     "metadata": {},
     "output_type": "execute_result"
    }
   ],
   "source": [
    "registers_per_column.head()"
   ]
  },
  {
   "cell_type": "code",
   "execution_count": 15,
   "id": "proved-onion",
   "metadata": {
    "ExecuteTime": {
     "end_time": "2021-09-06T13:40:25.528193Z",
     "start_time": "2021-09-06T13:40:25.502012Z"
    },
    "hidden": true
   },
   "outputs": [
    {
     "data": {
      "text/plain": [
       "(351788, 190)"
      ]
     },
     "execution_count": 15,
     "metadata": {},
     "output_type": "execute_result"
    }
   ],
   "source": [
    "# Transpose of dataframe\n",
    "registers_per_column.T.shape"
   ]
  },
  {
   "cell_type": "code",
   "execution_count": 16,
   "id": "portable-burning",
   "metadata": {
    "ExecuteTime": {
     "end_time": "2021-09-06T13:40:25.569174Z",
     "start_time": "2021-09-06T13:40:25.529272Z"
    },
    "hidden": true
   },
   "outputs": [
    {
     "data": {
      "text/html": [
       "<div>\n",
       "<style scoped>\n",
       "    .dataframe tbody tr th:only-of-type {\n",
       "        vertical-align: middle;\n",
       "    }\n",
       "\n",
       "    .dataframe tbody tr th {\n",
       "        vertical-align: top;\n",
       "    }\n",
       "\n",
       "    .dataframe thead th {\n",
       "        text-align: right;\n",
       "    }\n",
       "</style>\n",
       "<table border=\"1\" class=\"dataframe\">\n",
       "  <thead>\n",
       "    <tr style=\"text-align: right;\">\n",
       "      <th></th>\n",
       "      <th>0</th>\n",
       "      <th>1</th>\n",
       "      <th>2</th>\n",
       "      <th>3</th>\n",
       "      <th>4</th>\n",
       "      <th>5</th>\n",
       "      <th>6</th>\n",
       "      <th>7</th>\n",
       "      <th>8</th>\n",
       "      <th>9</th>\n",
       "      <th>...</th>\n",
       "      <th>180</th>\n",
       "      <th>181</th>\n",
       "      <th>182</th>\n",
       "      <th>183</th>\n",
       "      <th>184</th>\n",
       "      <th>185</th>\n",
       "      <th>186</th>\n",
       "      <th>187</th>\n",
       "      <th>188</th>\n",
       "      <th>189</th>\n",
       "    </tr>\n",
       "  </thead>\n",
       "  <tbody>\n",
       "    <tr>\n",
       "      <th></th>\n",
       "      <td>49298.0</td>\n",
       "      <td>48759.0</td>\n",
       "      <td>48760.0</td>\n",
       "      <td>48421.0</td>\n",
       "      <td>48513.0</td>\n",
       "      <td>5529.0</td>\n",
       "      <td>5539.0</td>\n",
       "      <td>50000.0</td>\n",
       "      <td>49298.0</td>\n",
       "      <td>48513.0</td>\n",
       "      <td>...</td>\n",
       "      <td>5009.0</td>\n",
       "      <td>48421.0</td>\n",
       "      <td>48759.0</td>\n",
       "      <td>48759.0</td>\n",
       "      <td>50000.0</td>\n",
       "      <td>49298.0</td>\n",
       "      <td>49298.0</td>\n",
       "      <td>48759.0</td>\n",
       "      <td>28978.0</td>\n",
       "      <td>49667.0</td>\n",
       "    </tr>\n",
       "    <tr>\n",
       "      <th>0</th>\n",
       "      <td>380.0</td>\n",
       "      <td>1240.0</td>\n",
       "      <td>996.0</td>\n",
       "      <td>1561.0</td>\n",
       "      <td>898.0</td>\n",
       "      <td>976.0</td>\n",
       "      <td>13090.0</td>\n",
       "      <td>NaN</td>\n",
       "      <td>144.0</td>\n",
       "      <td>902.0</td>\n",
       "      <td>...</td>\n",
       "      <td>41990.0</td>\n",
       "      <td>706.0</td>\n",
       "      <td>830.0</td>\n",
       "      <td>771.0</td>\n",
       "      <td>NaN</td>\n",
       "      <td>525.0</td>\n",
       "      <td>240.0</td>\n",
       "      <td>44.0</td>\n",
       "      <td>NaN</td>\n",
       "      <td>4.0</td>\n",
       "    </tr>\n",
       "    <tr>\n",
       "      <th>120</th>\n",
       "      <td>1.0</td>\n",
       "      <td>NaN</td>\n",
       "      <td>3.0</td>\n",
       "      <td>NaN</td>\n",
       "      <td>NaN</td>\n",
       "      <td>NaN</td>\n",
       "      <td>NaN</td>\n",
       "      <td>NaN</td>\n",
       "      <td>2.0</td>\n",
       "      <td>NaN</td>\n",
       "      <td>...</td>\n",
       "      <td>NaN</td>\n",
       "      <td>NaN</td>\n",
       "      <td>NaN</td>\n",
       "      <td>NaN</td>\n",
       "      <td>NaN</td>\n",
       "      <td>NaN</td>\n",
       "      <td>NaN</td>\n",
       "      <td>NaN</td>\n",
       "      <td>95.0</td>\n",
       "      <td>NaN</td>\n",
       "    </tr>\n",
       "    <tr>\n",
       "      <th>128</th>\n",
       "      <td>2.0</td>\n",
       "      <td>NaN</td>\n",
       "      <td>NaN</td>\n",
       "      <td>NaN</td>\n",
       "      <td>NaN</td>\n",
       "      <td>NaN</td>\n",
       "      <td>NaN</td>\n",
       "      <td>NaN</td>\n",
       "      <td>1.0</td>\n",
       "      <td>NaN</td>\n",
       "      <td>...</td>\n",
       "      <td>NaN</td>\n",
       "      <td>NaN</td>\n",
       "      <td>NaN</td>\n",
       "      <td>NaN</td>\n",
       "      <td>NaN</td>\n",
       "      <td>NaN</td>\n",
       "      <td>NaN</td>\n",
       "      <td>NaN</td>\n",
       "      <td>NaN</td>\n",
       "      <td>NaN</td>\n",
       "    </tr>\n",
       "    <tr>\n",
       "      <th>152</th>\n",
       "      <td>1.0</td>\n",
       "      <td>NaN</td>\n",
       "      <td>NaN</td>\n",
       "      <td>NaN</td>\n",
       "      <td>NaN</td>\n",
       "      <td>NaN</td>\n",
       "      <td>NaN</td>\n",
       "      <td>NaN</td>\n",
       "      <td>1.0</td>\n",
       "      <td>NaN</td>\n",
       "      <td>...</td>\n",
       "      <td>NaN</td>\n",
       "      <td>NaN</td>\n",
       "      <td>NaN</td>\n",
       "      <td>NaN</td>\n",
       "      <td>NaN</td>\n",
       "      <td>NaN</td>\n",
       "      <td>NaN</td>\n",
       "      <td>NaN</td>\n",
       "      <td>NaN</td>\n",
       "      <td>NaN</td>\n",
       "    </tr>\n",
       "  </tbody>\n",
       "</table>\n",
       "<p>5 rows × 190 columns</p>\n",
       "</div>"
      ],
      "text/plain": [
       "         0        1        2        3        4       5        6        7    \\\n",
       "     49298.0  48759.0  48760.0  48421.0  48513.0  5529.0   5539.0  50000.0   \n",
       "0      380.0   1240.0    996.0   1561.0    898.0   976.0  13090.0      NaN   \n",
       "120      1.0      NaN      3.0      NaN      NaN     NaN      NaN      NaN   \n",
       "128      2.0      NaN      NaN      NaN      NaN     NaN      NaN      NaN   \n",
       "152      1.0      NaN      NaN      NaN      NaN     NaN      NaN      NaN   \n",
       "\n",
       "         8        9    ...      180      181      182      183      184  \\\n",
       "     49298.0  48513.0  ...   5009.0  48421.0  48759.0  48759.0  50000.0   \n",
       "0      144.0    902.0  ...  41990.0    706.0    830.0    771.0      NaN   \n",
       "120      2.0      NaN  ...      NaN      NaN      NaN      NaN      NaN   \n",
       "128      1.0      NaN  ...      NaN      NaN      NaN      NaN      NaN   \n",
       "152      1.0      NaN  ...      NaN      NaN      NaN      NaN      NaN   \n",
       "\n",
       "         185      186      187      188      189  \n",
       "     49298.0  49298.0  48759.0  28978.0  49667.0  \n",
       "0      525.0    240.0     44.0      NaN      4.0  \n",
       "120      NaN      NaN      NaN     95.0      NaN  \n",
       "128      NaN      NaN      NaN      NaN      NaN  \n",
       "152      NaN      NaN      NaN      NaN      NaN  \n",
       "\n",
       "[5 rows x 190 columns]"
      ]
     },
     "execution_count": 16,
     "metadata": {},
     "output_type": "execute_result"
    }
   ],
   "source": [
    "registers_per_column.T.head()"
   ]
  },
  {
   "cell_type": "code",
   "execution_count": 17,
   "id": "martial-rebecca",
   "metadata": {
    "ExecuteTime": {
     "end_time": "2021-09-06T13:40:26.015170Z",
     "start_time": "2021-09-06T13:40:25.570123Z"
    },
    "hidden": true
   },
   "outputs": [
    {
     "name": "stdout",
     "output_type": "stream",
     "text": [
      "The ten top index Index(['', '-10', '-1000060.0', '-10002.16', '-100034.8', '-1000420.0',\n",
      "       '-1000468.0', '-1000496.0', '-1000516.0', '-1000548.0'],\n",
      "      dtype='object')\n",
      "The ten last index Index(['9999040', '999920', '9999240', '99993', '9999400', '9999440',\n",
      "       '9999480', '99995', '99996', '999971'],\n",
      "      dtype='object')\n"
     ]
    }
   ],
   "source": [
    "counts_per_column = registers_per_column.T\n",
    "counts_per_column.index = counts_per_column.index.astype('str')\n",
    "counts_per_column.sort_index(inplace=True)\n",
    "counts_per_column.index\n",
    "# Checking if all the values are numbers\n",
    "print('The ten top index', counts_per_column.index[:10])\n",
    "print('The ten last index', counts_per_column.index[len(counts_per_column)-10:])"
   ]
  },
  {
   "cell_type": "code",
   "execution_count": 18,
   "id": "coral-james",
   "metadata": {
    "ExecuteTime": {
     "end_time": "2021-09-06T13:40:27.071956Z",
     "start_time": "2021-09-06T13:40:26.016298Z"
    },
    "hidden": true
   },
   "outputs": [],
   "source": [
    "# ensure that all registers in cat_vars are strings\n",
    "df_cat_vars = pd.DataFrame()\n",
    "for col in cat_vars:\n",
    "    cat_column = df_features.groupby(col).size()\n",
    "    df_cat_vars = df_cat_vars.append(cat_column, ignore_index=True)"
   ]
  },
  {
   "cell_type": "code",
   "execution_count": 19,
   "id": "conscious-traveler",
   "metadata": {
    "ExecuteTime": {
     "end_time": "2021-09-06T13:40:27.077610Z",
     "start_time": "2021-09-06T13:40:27.073639Z"
    },
    "hidden": true
   },
   "outputs": [
    {
     "data": {
      "text/plain": [
       "(40, 71505)"
      ]
     },
     "execution_count": 19,
     "metadata": {},
     "output_type": "execute_result"
    }
   ],
   "source": [
    "df_cat_vars.shape"
   ]
  },
  {
   "cell_type": "code",
   "execution_count": 20,
   "id": "urban-cathedral",
   "metadata": {
    "ExecuteTime": {
     "end_time": "2021-09-06T13:40:27.162384Z",
     "start_time": "2021-09-06T13:40:27.079586Z"
    },
    "hidden": true
   },
   "outputs": [
    {
     "name": "stdout",
     "output_type": "stream",
     "text": [
      "The ten top index Index(['', '000J', '0062', '00AD', '00ARusu', '00AYONy', '00AhP4J', '00J8E9a',\n",
      "       '00JHTSP', '00L3'],\n",
      "      dtype='object')\n",
      "The ten last index Index(['zzQ9udm', 'zzQV', 'zzbGOGx', 'zzbGa54', 'zzcv6yg4s3UGv', 'zzfHvGh',\n",
      "       'zzfLM_S', 'zzfUfAI', 'zzfo6HG', 'zzpZ'],\n",
      "      dtype='object')\n"
     ]
    }
   ],
   "source": [
    "df_cat_vars = df_cat_vars.T\n",
    "df_cat_vars.index = df_cat_vars.index.astype('str')\n",
    "df_cat_vars.sort_index(inplace=True)\n",
    "# Checking if all the values are numbers\n",
    "print('The ten top index', df_cat_vars.index[:10])\n",
    "print('The ten last index', df_cat_vars.index[len(df_cat_vars)-10:])"
   ]
  },
  {
   "cell_type": "code",
   "execution_count": 21,
   "id": "animal-relative",
   "metadata": {
    "ExecuteTime": {
     "end_time": "2021-09-06T13:40:27.469115Z",
     "start_time": "2021-09-06T13:40:27.163301Z"
    },
    "hidden": true
   },
   "outputs": [
    {
     "data": {
      "text/html": [
       "<div>\n",
       "<style scoped>\n",
       "    .dataframe tbody tr th:only-of-type {\n",
       "        vertical-align: middle;\n",
       "    }\n",
       "\n",
       "    .dataframe tbody tr th {\n",
       "        vertical-align: top;\n",
       "    }\n",
       "\n",
       "    .dataframe thead th {\n",
       "        text-align: right;\n",
       "    }\n",
       "</style>\n",
       "<table border=\"1\" class=\"dataframe\">\n",
       "  <thead>\n",
       "    <tr style=\"text-align: right;\">\n",
       "      <th></th>\n",
       "      <th>Var1</th>\n",
       "      <th>Var2</th>\n",
       "      <th>Var3</th>\n",
       "      <th>Var4</th>\n",
       "      <th>Var5</th>\n",
       "      <th>Var6</th>\n",
       "      <th>Var7</th>\n",
       "      <th>Var8</th>\n",
       "      <th>Var9</th>\n",
       "      <th>Var10</th>\n",
       "      <th>...</th>\n",
       "      <th>Var221</th>\n",
       "      <th>Var222</th>\n",
       "      <th>Var223</th>\n",
       "      <th>Var224</th>\n",
       "      <th>Var225</th>\n",
       "      <th>Var226</th>\n",
       "      <th>Var227</th>\n",
       "      <th>Var228</th>\n",
       "      <th>Var229</th>\n",
       "      <th>Var230</th>\n",
       "    </tr>\n",
       "  </thead>\n",
       "  <tbody>\n",
       "    <tr>\n",
       "      <th>0</th>\n",
       "      <td>NaN</td>\n",
       "      <td>NaN</td>\n",
       "      <td>NaN</td>\n",
       "      <td>NaN</td>\n",
       "      <td>NaN</td>\n",
       "      <td>1526</td>\n",
       "      <td>7</td>\n",
       "      <td>NaN</td>\n",
       "      <td>NaN</td>\n",
       "      <td>NaN</td>\n",
       "      <td>...</td>\n",
       "      <td>oslk</td>\n",
       "      <td>fXVEsaq</td>\n",
       "      <td>jySVZNlOJy</td>\n",
       "      <td>NaN</td>\n",
       "      <td>NaN</td>\n",
       "      <td>xb3V</td>\n",
       "      <td>RAYp</td>\n",
       "      <td>F2FyR07IdsN7I</td>\n",
       "      <td>NaN</td>\n",
       "      <td>NaN</td>\n",
       "    </tr>\n",
       "    <tr>\n",
       "      <th>1</th>\n",
       "      <td>NaN</td>\n",
       "      <td>NaN</td>\n",
       "      <td>NaN</td>\n",
       "      <td>NaN</td>\n",
       "      <td>NaN</td>\n",
       "      <td>525</td>\n",
       "      <td>0</td>\n",
       "      <td>NaN</td>\n",
       "      <td>NaN</td>\n",
       "      <td>NaN</td>\n",
       "      <td>...</td>\n",
       "      <td>oslk</td>\n",
       "      <td>2Kb5FSF</td>\n",
       "      <td>LM8l689qOp</td>\n",
       "      <td>NaN</td>\n",
       "      <td>NaN</td>\n",
       "      <td>fKCe</td>\n",
       "      <td>RAYp</td>\n",
       "      <td>F2FyR07IdsN7I</td>\n",
       "      <td>NaN</td>\n",
       "      <td>NaN</td>\n",
       "    </tr>\n",
       "    <tr>\n",
       "      <th>2</th>\n",
       "      <td>NaN</td>\n",
       "      <td>NaN</td>\n",
       "      <td>NaN</td>\n",
       "      <td>NaN</td>\n",
       "      <td>NaN</td>\n",
       "      <td>5236</td>\n",
       "      <td>7</td>\n",
       "      <td>NaN</td>\n",
       "      <td>NaN</td>\n",
       "      <td>NaN</td>\n",
       "      <td>...</td>\n",
       "      <td>Al6ZaUT</td>\n",
       "      <td>NKv4yOc</td>\n",
       "      <td>jySVZNlOJy</td>\n",
       "      <td>NaN</td>\n",
       "      <td>kG3k</td>\n",
       "      <td>Qu4f</td>\n",
       "      <td>02N6s8f</td>\n",
       "      <td>ib5G6X1eUxUn6</td>\n",
       "      <td>am7c</td>\n",
       "      <td>NaN</td>\n",
       "    </tr>\n",
       "    <tr>\n",
       "      <th>3</th>\n",
       "      <td>NaN</td>\n",
       "      <td>NaN</td>\n",
       "      <td>NaN</td>\n",
       "      <td>NaN</td>\n",
       "      <td>NaN</td>\n",
       "      <td>NaN</td>\n",
       "      <td>0</td>\n",
       "      <td>NaN</td>\n",
       "      <td>NaN</td>\n",
       "      <td>NaN</td>\n",
       "      <td>...</td>\n",
       "      <td>oslk</td>\n",
       "      <td>CE7uk3u</td>\n",
       "      <td>LM8l689qOp</td>\n",
       "      <td>NaN</td>\n",
       "      <td>NaN</td>\n",
       "      <td>FSa2</td>\n",
       "      <td>RAYp</td>\n",
       "      <td>F2FyR07IdsN7I</td>\n",
       "      <td>NaN</td>\n",
       "      <td>NaN</td>\n",
       "    </tr>\n",
       "    <tr>\n",
       "      <th>4</th>\n",
       "      <td>NaN</td>\n",
       "      <td>NaN</td>\n",
       "      <td>NaN</td>\n",
       "      <td>NaN</td>\n",
       "      <td>NaN</td>\n",
       "      <td>1029</td>\n",
       "      <td>7</td>\n",
       "      <td>NaN</td>\n",
       "      <td>NaN</td>\n",
       "      <td>NaN</td>\n",
       "      <td>...</td>\n",
       "      <td>oslk</td>\n",
       "      <td>1J2cvxe</td>\n",
       "      <td>LM8l689qOp</td>\n",
       "      <td>NaN</td>\n",
       "      <td>kG3k</td>\n",
       "      <td>FSa2</td>\n",
       "      <td>RAYp</td>\n",
       "      <td>F2FyR07IdsN7I</td>\n",
       "      <td>mj86</td>\n",
       "      <td>NaN</td>\n",
       "    </tr>\n",
       "  </tbody>\n",
       "</table>\n",
       "<p>5 rows × 230 columns</p>\n",
       "</div>"
      ],
      "text/plain": [
       "  Var1 Var2 Var3 Var4 Var5  Var6 Var7  Var8 Var9 Var10  ...   Var221   Var222  \\\n",
       "0  NaN  NaN  NaN  NaN  NaN  1526    7   NaN  NaN   NaN  ...     oslk  fXVEsaq   \n",
       "1  NaN  NaN  NaN  NaN  NaN   525    0   NaN  NaN   NaN  ...     oslk  2Kb5FSF   \n",
       "2  NaN  NaN  NaN  NaN  NaN  5236    7   NaN  NaN   NaN  ...  Al6ZaUT  NKv4yOc   \n",
       "3  NaN  NaN  NaN  NaN  NaN   NaN    0   NaN  NaN   NaN  ...     oslk  CE7uk3u   \n",
       "4  NaN  NaN  NaN  NaN  NaN  1029    7   NaN  NaN   NaN  ...     oslk  1J2cvxe   \n",
       "\n",
       "       Var223 Var224  Var225 Var226   Var227         Var228 Var229  Var230  \n",
       "0  jySVZNlOJy    NaN     NaN   xb3V     RAYp  F2FyR07IdsN7I    NaN     NaN  \n",
       "1  LM8l689qOp    NaN     NaN   fKCe     RAYp  F2FyR07IdsN7I    NaN     NaN  \n",
       "2  jySVZNlOJy    NaN    kG3k   Qu4f  02N6s8f  ib5G6X1eUxUn6   am7c     NaN  \n",
       "3  LM8l689qOp    NaN     NaN   FSa2     RAYp  F2FyR07IdsN7I    NaN     NaN  \n",
       "4  LM8l689qOp    NaN    kG3k   FSa2     RAYp  F2FyR07IdsN7I   mj86     NaN  \n",
       "\n",
       "[5 rows x 230 columns]"
      ]
     },
     "execution_count": 21,
     "metadata": {},
     "output_type": "execute_result"
    }
   ],
   "source": [
    "# Completing values missing with NaN\n",
    "df_features.replace('', np.NaN, inplace=True)\n",
    "df_features.head()"
   ]
  },
  {
   "cell_type": "code",
   "execution_count": 22,
   "id": "ruled-pitch",
   "metadata": {
    "ExecuteTime": {
     "end_time": "2021-09-06T13:40:27.914072Z",
     "start_time": "2021-09-06T13:40:27.474266Z"
    },
    "hidden": true
   },
   "outputs": [],
   "source": [
    "# Change the types of variables to float and category respectively\n",
    "for col in num_vars:\n",
    "    df_features[col] = df_features[col].astype('float')\n",
    "for col in cat_vars:\n",
    "    df_features[col] = df_features[col].astype('category')"
   ]
  },
  {
   "cell_type": "code",
   "execution_count": 23,
   "id": "tutorial-massage",
   "metadata": {
    "ExecuteTime": {
     "end_time": "2021-09-06T13:40:27.920053Z",
     "start_time": "2021-09-06T13:40:27.916009Z"
    },
    "hidden": true
   },
   "outputs": [
    {
     "data": {
      "text/plain": [
       "Var1       float64\n",
       "Var2       float64\n",
       "Var3       float64\n",
       "Var4       float64\n",
       "Var5       float64\n",
       "            ...   \n",
       "Var226    category\n",
       "Var227    category\n",
       "Var228    category\n",
       "Var229    category\n",
       "Var230    category\n",
       "Length: 230, dtype: object"
      ]
     },
     "execution_count": 23,
     "metadata": {},
     "output_type": "execute_result"
    }
   ],
   "source": [
    "df_features.dtypes"
   ]
  },
  {
   "cell_type": "markdown",
   "id": "congressional-distance",
   "metadata": {
    "heading_collapsed": true
   },
   "source": [
    "### Featuring Selection"
   ]
  },
  {
   "cell_type": "code",
   "execution_count": 24,
   "id": "muslim-shuttle",
   "metadata": {
    "ExecuteTime": {
     "end_time": "2021-09-06T13:40:27.964847Z",
     "start_time": "2021-09-06T13:40:27.921426Z"
    },
    "hidden": true
   },
   "outputs": [
    {
     "data": {
      "text/html": [
       "<div>\n",
       "<style scoped>\n",
       "    .dataframe tbody tr th:only-of-type {\n",
       "        vertical-align: middle;\n",
       "    }\n",
       "\n",
       "    .dataframe tbody tr th {\n",
       "        vertical-align: top;\n",
       "    }\n",
       "\n",
       "    .dataframe thead th {\n",
       "        text-align: right;\n",
       "    }\n",
       "</style>\n",
       "<table border=\"1\" class=\"dataframe\">\n",
       "  <thead>\n",
       "    <tr style=\"text-align: right;\">\n",
       "      <th></th>\n",
       "      <th>Var1</th>\n",
       "      <th>Var2</th>\n",
       "      <th>Var3</th>\n",
       "      <th>Var4</th>\n",
       "      <th>Var5</th>\n",
       "      <th>Var6</th>\n",
       "      <th>Var7</th>\n",
       "      <th>Var8</th>\n",
       "      <th>Var9</th>\n",
       "      <th>Var10</th>\n",
       "      <th>...</th>\n",
       "      <th>Var221</th>\n",
       "      <th>Var222</th>\n",
       "      <th>Var223</th>\n",
       "      <th>Var224</th>\n",
       "      <th>Var225</th>\n",
       "      <th>Var226</th>\n",
       "      <th>Var227</th>\n",
       "      <th>Var228</th>\n",
       "      <th>Var229</th>\n",
       "      <th>Var230</th>\n",
       "    </tr>\n",
       "  </thead>\n",
       "  <tbody>\n",
       "    <tr>\n",
       "      <th>0</th>\n",
       "      <td>True</td>\n",
       "      <td>True</td>\n",
       "      <td>True</td>\n",
       "      <td>True</td>\n",
       "      <td>True</td>\n",
       "      <td>False</td>\n",
       "      <td>False</td>\n",
       "      <td>True</td>\n",
       "      <td>True</td>\n",
       "      <td>True</td>\n",
       "      <td>...</td>\n",
       "      <td>False</td>\n",
       "      <td>False</td>\n",
       "      <td>False</td>\n",
       "      <td>True</td>\n",
       "      <td>True</td>\n",
       "      <td>False</td>\n",
       "      <td>False</td>\n",
       "      <td>False</td>\n",
       "      <td>True</td>\n",
       "      <td>True</td>\n",
       "    </tr>\n",
       "    <tr>\n",
       "      <th>1</th>\n",
       "      <td>True</td>\n",
       "      <td>True</td>\n",
       "      <td>True</td>\n",
       "      <td>True</td>\n",
       "      <td>True</td>\n",
       "      <td>False</td>\n",
       "      <td>False</td>\n",
       "      <td>True</td>\n",
       "      <td>True</td>\n",
       "      <td>True</td>\n",
       "      <td>...</td>\n",
       "      <td>False</td>\n",
       "      <td>False</td>\n",
       "      <td>False</td>\n",
       "      <td>True</td>\n",
       "      <td>True</td>\n",
       "      <td>False</td>\n",
       "      <td>False</td>\n",
       "      <td>False</td>\n",
       "      <td>True</td>\n",
       "      <td>True</td>\n",
       "    </tr>\n",
       "    <tr>\n",
       "      <th>2</th>\n",
       "      <td>True</td>\n",
       "      <td>True</td>\n",
       "      <td>True</td>\n",
       "      <td>True</td>\n",
       "      <td>True</td>\n",
       "      <td>False</td>\n",
       "      <td>False</td>\n",
       "      <td>True</td>\n",
       "      <td>True</td>\n",
       "      <td>True</td>\n",
       "      <td>...</td>\n",
       "      <td>False</td>\n",
       "      <td>False</td>\n",
       "      <td>False</td>\n",
       "      <td>True</td>\n",
       "      <td>False</td>\n",
       "      <td>False</td>\n",
       "      <td>False</td>\n",
       "      <td>False</td>\n",
       "      <td>False</td>\n",
       "      <td>True</td>\n",
       "    </tr>\n",
       "    <tr>\n",
       "      <th>3</th>\n",
       "      <td>True</td>\n",
       "      <td>True</td>\n",
       "      <td>True</td>\n",
       "      <td>True</td>\n",
       "      <td>True</td>\n",
       "      <td>True</td>\n",
       "      <td>False</td>\n",
       "      <td>True</td>\n",
       "      <td>True</td>\n",
       "      <td>True</td>\n",
       "      <td>...</td>\n",
       "      <td>False</td>\n",
       "      <td>False</td>\n",
       "      <td>False</td>\n",
       "      <td>True</td>\n",
       "      <td>True</td>\n",
       "      <td>False</td>\n",
       "      <td>False</td>\n",
       "      <td>False</td>\n",
       "      <td>True</td>\n",
       "      <td>True</td>\n",
       "    </tr>\n",
       "    <tr>\n",
       "      <th>4</th>\n",
       "      <td>True</td>\n",
       "      <td>True</td>\n",
       "      <td>True</td>\n",
       "      <td>True</td>\n",
       "      <td>True</td>\n",
       "      <td>False</td>\n",
       "      <td>False</td>\n",
       "      <td>True</td>\n",
       "      <td>True</td>\n",
       "      <td>True</td>\n",
       "      <td>...</td>\n",
       "      <td>False</td>\n",
       "      <td>False</td>\n",
       "      <td>False</td>\n",
       "      <td>True</td>\n",
       "      <td>False</td>\n",
       "      <td>False</td>\n",
       "      <td>False</td>\n",
       "      <td>False</td>\n",
       "      <td>False</td>\n",
       "      <td>True</td>\n",
       "    </tr>\n",
       "    <tr>\n",
       "      <th>...</th>\n",
       "      <td>...</td>\n",
       "      <td>...</td>\n",
       "      <td>...</td>\n",
       "      <td>...</td>\n",
       "      <td>...</td>\n",
       "      <td>...</td>\n",
       "      <td>...</td>\n",
       "      <td>...</td>\n",
       "      <td>...</td>\n",
       "      <td>...</td>\n",
       "      <td>...</td>\n",
       "      <td>...</td>\n",
       "      <td>...</td>\n",
       "      <td>...</td>\n",
       "      <td>...</td>\n",
       "      <td>...</td>\n",
       "      <td>...</td>\n",
       "      <td>...</td>\n",
       "      <td>...</td>\n",
       "      <td>...</td>\n",
       "      <td>...</td>\n",
       "    </tr>\n",
       "    <tr>\n",
       "      <th>49995</th>\n",
       "      <td>True</td>\n",
       "      <td>True</td>\n",
       "      <td>True</td>\n",
       "      <td>True</td>\n",
       "      <td>True</td>\n",
       "      <td>False</td>\n",
       "      <td>False</td>\n",
       "      <td>True</td>\n",
       "      <td>True</td>\n",
       "      <td>True</td>\n",
       "      <td>...</td>\n",
       "      <td>False</td>\n",
       "      <td>False</td>\n",
       "      <td>False</td>\n",
       "      <td>True</td>\n",
       "      <td>True</td>\n",
       "      <td>False</td>\n",
       "      <td>False</td>\n",
       "      <td>False</td>\n",
       "      <td>True</td>\n",
       "      <td>True</td>\n",
       "    </tr>\n",
       "    <tr>\n",
       "      <th>49996</th>\n",
       "      <td>True</td>\n",
       "      <td>True</td>\n",
       "      <td>True</td>\n",
       "      <td>True</td>\n",
       "      <td>True</td>\n",
       "      <td>False</td>\n",
       "      <td>False</td>\n",
       "      <td>True</td>\n",
       "      <td>True</td>\n",
       "      <td>True</td>\n",
       "      <td>...</td>\n",
       "      <td>False</td>\n",
       "      <td>False</td>\n",
       "      <td>False</td>\n",
       "      <td>True</td>\n",
       "      <td>False</td>\n",
       "      <td>False</td>\n",
       "      <td>False</td>\n",
       "      <td>False</td>\n",
       "      <td>False</td>\n",
       "      <td>True</td>\n",
       "    </tr>\n",
       "    <tr>\n",
       "      <th>49997</th>\n",
       "      <td>True</td>\n",
       "      <td>True</td>\n",
       "      <td>True</td>\n",
       "      <td>True</td>\n",
       "      <td>True</td>\n",
       "      <td>False</td>\n",
       "      <td>False</td>\n",
       "      <td>True</td>\n",
       "      <td>True</td>\n",
       "      <td>True</td>\n",
       "      <td>...</td>\n",
       "      <td>False</td>\n",
       "      <td>False</td>\n",
       "      <td>False</td>\n",
       "      <td>True</td>\n",
       "      <td>False</td>\n",
       "      <td>False</td>\n",
       "      <td>False</td>\n",
       "      <td>False</td>\n",
       "      <td>True</td>\n",
       "      <td>True</td>\n",
       "    </tr>\n",
       "    <tr>\n",
       "      <th>49998</th>\n",
       "      <td>True</td>\n",
       "      <td>True</td>\n",
       "      <td>True</td>\n",
       "      <td>False</td>\n",
       "      <td>True</td>\n",
       "      <td>True</td>\n",
       "      <td>True</td>\n",
       "      <td>True</td>\n",
       "      <td>True</td>\n",
       "      <td>True</td>\n",
       "      <td>...</td>\n",
       "      <td>False</td>\n",
       "      <td>False</td>\n",
       "      <td>False</td>\n",
       "      <td>True</td>\n",
       "      <td>True</td>\n",
       "      <td>False</td>\n",
       "      <td>False</td>\n",
       "      <td>False</td>\n",
       "      <td>True</td>\n",
       "      <td>True</td>\n",
       "    </tr>\n",
       "    <tr>\n",
       "      <th>49999</th>\n",
       "      <td>True</td>\n",
       "      <td>True</td>\n",
       "      <td>True</td>\n",
       "      <td>True</td>\n",
       "      <td>True</td>\n",
       "      <td>False</td>\n",
       "      <td>False</td>\n",
       "      <td>True</td>\n",
       "      <td>True</td>\n",
       "      <td>True</td>\n",
       "      <td>...</td>\n",
       "      <td>False</td>\n",
       "      <td>False</td>\n",
       "      <td>False</td>\n",
       "      <td>True</td>\n",
       "      <td>True</td>\n",
       "      <td>False</td>\n",
       "      <td>False</td>\n",
       "      <td>False</td>\n",
       "      <td>True</td>\n",
       "      <td>True</td>\n",
       "    </tr>\n",
       "  </tbody>\n",
       "</table>\n",
       "<p>50000 rows × 230 columns</p>\n",
       "</div>"
      ],
      "text/plain": [
       "       Var1  Var2  Var3   Var4  Var5   Var6   Var7  Var8  Var9  Var10  ...  \\\n",
       "0      True  True  True   True  True  False  False  True  True   True  ...   \n",
       "1      True  True  True   True  True  False  False  True  True   True  ...   \n",
       "2      True  True  True   True  True  False  False  True  True   True  ...   \n",
       "3      True  True  True   True  True   True  False  True  True   True  ...   \n",
       "4      True  True  True   True  True  False  False  True  True   True  ...   \n",
       "...     ...   ...   ...    ...   ...    ...    ...   ...   ...    ...  ...   \n",
       "49995  True  True  True   True  True  False  False  True  True   True  ...   \n",
       "49996  True  True  True   True  True  False  False  True  True   True  ...   \n",
       "49997  True  True  True   True  True  False  False  True  True   True  ...   \n",
       "49998  True  True  True  False  True   True   True  True  True   True  ...   \n",
       "49999  True  True  True   True  True  False  False  True  True   True  ...   \n",
       "\n",
       "       Var221  Var222  Var223  Var224  Var225  Var226  Var227  Var228  Var229  \\\n",
       "0       False   False   False    True    True   False   False   False    True   \n",
       "1       False   False   False    True    True   False   False   False    True   \n",
       "2       False   False   False    True   False   False   False   False   False   \n",
       "3       False   False   False    True    True   False   False   False    True   \n",
       "4       False   False   False    True   False   False   False   False   False   \n",
       "...       ...     ...     ...     ...     ...     ...     ...     ...     ...   \n",
       "49995   False   False   False    True    True   False   False   False    True   \n",
       "49996   False   False   False    True   False   False   False   False   False   \n",
       "49997   False   False   False    True   False   False   False   False    True   \n",
       "49998   False   False   False    True    True   False   False   False    True   \n",
       "49999   False   False   False    True    True   False   False   False    True   \n",
       "\n",
       "       Var230  \n",
       "0        True  \n",
       "1        True  \n",
       "2        True  \n",
       "3        True  \n",
       "4        True  \n",
       "...       ...  \n",
       "49995    True  \n",
       "49996    True  \n",
       "49997    True  \n",
       "49998    True  \n",
       "49999    True  \n",
       "\n",
       "[50000 rows x 230 columns]"
      ]
     },
     "execution_count": 24,
     "metadata": {},
     "output_type": "execute_result"
    }
   ],
   "source": [
    "df_features.isna()"
   ]
  },
  {
   "cell_type": "code",
   "execution_count": 25,
   "id": "driving-foundation",
   "metadata": {
    "ExecuteTime": {
     "end_time": "2021-09-06T13:40:28.003758Z",
     "start_time": "2021-09-06T13:40:27.965774Z"
    },
    "hidden": true
   },
   "outputs": [
    {
     "data": {
      "text/plain": [
       "Var1      49298\n",
       "Var2      48759\n",
       "Var3      48760\n",
       "Var4      48421\n",
       "Var5      48513\n",
       "          ...  \n",
       "Var226        0\n",
       "Var227        0\n",
       "Var228        0\n",
       "Var229    28432\n",
       "Var230    50000\n",
       "Length: 230, dtype: int64"
      ]
     },
     "execution_count": 25,
     "metadata": {},
     "output_type": "execute_result"
    }
   ],
   "source": [
    "col_with_null = df_features.isna().sum(axis=0)\n",
    "col_with_null"
   ]
  },
  {
   "cell_type": "code",
   "execution_count": 26,
   "id": "joint-tooth",
   "metadata": {
    "ExecuteTime": {
     "end_time": "2021-09-06T13:40:28.231183Z",
     "start_time": "2021-09-06T13:40:28.004714Z"
    },
    "hidden": true
   },
   "outputs": [
    {
     "name": "stdout",
     "output_type": "stream",
     "text": [
      "Median 48513.0\n"
     ]
    },
    {
     "data": {
      "image/png": "[encoded data removed]",
      "text/plain": [
       "<Figure size 432x288 with 2 Axes>"
      ]
     },
     "metadata": {
      "needs_background": "light"
     },
     "output_type": "display_data"
    }
   ],
   "source": [
    "# Ploting a graph to visualize the missing data\n",
    "fig, (ax1, ax2) = plt.subplots(1, 2)\n",
    "ax1.boxplot(col_with_null)\n",
    "ax2.hist(col_with_null);\n",
    "median = col_with_null.median()\n",
    "print('Median', median)"
   ]
  },
  {
   "cell_type": "code",
   "execution_count": 27,
   "id": "heated-weight",
   "metadata": {
    "ExecuteTime": {
     "end_time": "2021-09-06T13:40:28.235447Z",
     "start_time": "2021-09-06T13:40:28.232168Z"
    },
    "hidden": true
   },
   "outputs": [
    {
     "data": {
      "text/plain": [
       "12500.0"
      ]
     },
     "execution_count": 27,
     "metadata": {},
     "output_type": "execute_result"
    }
   ],
   "source": [
    "# Removing variables with more than 25% of missed data\n",
    "threshold = 0.25\n",
    "limit_of_nulls = len(df_features) * threshold\n",
    "limit_of_nulls"
   ]
  },
  {
   "cell_type": "code",
   "execution_count": 28,
   "id": "lined-gentleman",
   "metadata": {
    "ExecuteTime": {
     "end_time": "2021-09-06T13:40:28.256473Z",
     "start_time": "2021-09-06T13:40:28.236911Z"
    },
    "hidden": true
   },
   "outputs": [
    {
     "data": {
      "text/plain": [
       "array(['Var6', 'Var7', 'Var13', 'Var21', 'Var22', 'Var24', 'Var25',\n",
       "       'Var28', 'Var35', 'Var38', 'Var44', 'Var57', 'Var65', 'Var73',\n",
       "       'Var74', 'Var76', 'Var78', 'Var81', 'Var83', 'Var85', 'Var109',\n",
       "       'Var112', 'Var113', 'Var119', 'Var123', 'Var125', 'Var132',\n",
       "       'Var133', 'Var134', 'Var140', 'Var143', 'Var144', 'Var149',\n",
       "       'Var153', 'Var160', 'Var163', 'Var173', 'Var181', 'Var192',\n",
       "       'Var193', 'Var195', 'Var196', 'Var197', 'Var198', 'Var199',\n",
       "       'Var202', 'Var203', 'Var204', 'Var205', 'Var206', 'Var207',\n",
       "       'Var208', 'Var210', 'Var211', 'Var212', 'Var216', 'Var217',\n",
       "       'Var218', 'Var219', 'Var220', 'Var221', 'Var222', 'Var223',\n",
       "       'Var226', 'Var227', 'Var228'], dtype=object)"
      ]
     },
     "execution_count": 28,
     "metadata": {},
     "output_type": "execute_result"
    }
   ],
   "source": [
    "vars_filtered_threshold = np.array(df_features.columns[(col_with_null <= limit_of_nulls)])\n",
    "vars_filtered_threshold"
   ]
  },
  {
   "cell_type": "code",
   "execution_count": 29,
   "id": "passing-strategy",
   "metadata": {
    "ExecuteTime": {
     "end_time": "2021-09-06T13:40:28.263021Z",
     "start_time": "2021-09-06T13:40:28.258172Z"
    },
    "hidden": true
   },
   "outputs": [
    {
     "name": "stdout",
     "output_type": "stream",
     "text": [
      "38 28\n"
     ]
    }
   ],
   "source": [
    "num_vars = [elem for elem in num_vars if elem in vars_filtered_threshold]\n",
    "cat_vars = [elem for elem in cat_vars if elem in vars_filtered_threshold]\n",
    "print(len(num_vars), len(cat_vars))"
   ]
  },
  {
   "cell_type": "code",
   "execution_count": 30,
   "id": "exposed-excitement",
   "metadata": {
    "ExecuteTime": {
     "end_time": "2021-09-06T13:40:28.270738Z",
     "start_time": "2021-09-06T13:40:28.264677Z"
    },
    "hidden": true
   },
   "outputs": [
    {
     "data": {
      "text/plain": [
       "['Var6',\n",
       " 'Var7',\n",
       " 'Var13',\n",
       " 'Var21',\n",
       " 'Var22',\n",
       " 'Var24',\n",
       " 'Var25',\n",
       " 'Var28',\n",
       " 'Var35',\n",
       " 'Var38',\n",
       " 'Var44',\n",
       " 'Var57',\n",
       " 'Var65',\n",
       " 'Var73',\n",
       " 'Var74',\n",
       " 'Var76',\n",
       " 'Var78',\n",
       " 'Var81',\n",
       " 'Var83',\n",
       " 'Var85',\n",
       " 'Var109',\n",
       " 'Var112',\n",
       " 'Var113',\n",
       " 'Var119',\n",
       " 'Var123',\n",
       " 'Var125',\n",
       " 'Var132',\n",
       " 'Var133',\n",
       " 'Var134',\n",
       " 'Var140',\n",
       " 'Var143',\n",
       " 'Var144',\n",
       " 'Var149',\n",
       " 'Var153',\n",
       " 'Var160',\n",
       " 'Var163',\n",
       " 'Var173',\n",
       " 'Var181']"
      ]
     },
     "execution_count": 30,
     "metadata": {},
     "output_type": "execute_result"
    }
   ],
   "source": [
    "num_vars"
   ]
  },
  {
   "cell_type": "code",
   "execution_count": 31,
   "id": "modular-cradle",
   "metadata": {
    "ExecuteTime": {
     "end_time": "2021-09-06T13:40:28.369381Z",
     "start_time": "2021-09-06T13:40:28.273174Z"
    },
    "hidden": true
   },
   "outputs": [],
   "source": [
    "# Fill the NaN values\n",
    "for col in num_vars:\n",
    "    col_mean = df_features[col].mean()\n",
    "    df_features[col] = df_features[col].fillna(col_mean)\n",
    "    \n",
    "for col in cat_vars:\n",
    "    df_features[col] = df_features[col].cat.add_categories('missing')\n",
    "    df_features[col] = df_features[col].fillna('missing')"
   ]
  },
  {
   "cell_type": "code",
   "execution_count": 32,
   "id": "informational-extra",
   "metadata": {
    "ExecuteTime": {
     "end_time": "2021-09-06T13:40:28.460268Z",
     "start_time": "2021-09-06T13:40:28.370576Z"
    },
    "hidden": true
   },
   "outputs": [
    {
     "data": {
      "text/plain": [
       "Var192      362\n",
       "Var193       51\n",
       "Var195       23\n",
       "Var196        4\n",
       "Var197      226\n",
       "Var198     4291\n",
       "Var199     5074\n",
       "Var202     5714\n",
       "Var203        6\n",
       "Var204      100\n",
       "Var205        4\n",
       "Var206       22\n",
       "Var207       14\n",
       "Var208        3\n",
       "Var210        6\n",
       "Var211        2\n",
       "Var212       81\n",
       "Var216     2016\n",
       "Var217    13991\n",
       "Var218        3\n",
       "Var219       23\n",
       "Var220     4291\n",
       "Var221        7\n",
       "Var222     4291\n",
       "Var223        5\n",
       "Var226       23\n",
       "Var227        7\n",
       "Var228       30\n",
       "dtype: int64"
      ]
     },
     "execution_count": 32,
     "metadata": {},
     "output_type": "execute_result"
    }
   ],
   "source": [
    "# Categorical variables with lot of categories\n",
    "n_cols_categoricals = df_features[cat_vars].apply(lambda x : len(set(x)))\n",
    "n_cols_categoricals"
   ]
  },
  {
   "cell_type": "code",
   "execution_count": 33,
   "id": "scenic-bullet",
   "metadata": {
    "ExecuteTime": {
     "end_time": "2021-09-06T13:40:28.585011Z",
     "start_time": "2021-09-06T13:40:28.461654Z"
    },
    "hidden": true
   },
   "outputs": [
    {
     "data": {
      "image/png": "[encoded data removed]",
      "text/plain": [
       "<Figure size 432x288 with 1 Axes>"
      ]
     },
     "metadata": {
      "needs_background": "light"
     },
     "output_type": "display_data"
    }
   ],
   "source": [
    "plt.hist(n_cols_categoricals);"
   ]
  },
  {
   "cell_type": "code",
   "execution_count": 34,
   "id": "demonstrated-material",
   "metadata": {
    "ExecuteTime": {
     "end_time": "2021-09-06T13:40:28.590047Z",
     "start_time": "2021-09-06T13:40:28.586029Z"
    },
    "hidden": true
   },
   "outputs": [
    {
     "data": {
      "text/plain": [
       "array(['Var192', 'Var193', 'Var195', 'Var196', 'Var197', 'Var203',\n",
       "       'Var204', 'Var205', 'Var206', 'Var207', 'Var208', 'Var210',\n",
       "       'Var211', 'Var212', 'Var218', 'Var219', 'Var221', 'Var223',\n",
       "       'Var226', 'Var227', 'Var228'], dtype=object)"
      ]
     },
     "execution_count": 34,
     "metadata": {},
     "output_type": "execute_result"
    }
   ],
   "source": [
    "# Applying threshold to filter cat_vars\n",
    "cat_threshold = 1400\n",
    "cat_vars_filtered_threshold = np.array(n_cols_categoricals[n_cols_categoricals < cat_threshold].index)\n",
    "cat_vars_filtered_threshold"
   ]
  },
  {
   "cell_type": "code",
   "execution_count": 35,
   "id": "previous-viking",
   "metadata": {
    "ExecuteTime": {
     "end_time": "2021-09-06T13:40:28.593886Z",
     "start_time": "2021-09-06T13:40:28.591434Z"
    },
    "hidden": true
   },
   "outputs": [
    {
     "name": "stdout",
     "output_type": "stream",
     "text": [
      "28 21\n"
     ]
    }
   ],
   "source": [
    "print(len(n_cols_categoricals),len(cat_vars_filtered_threshold))"
   ]
  },
  {
   "cell_type": "code",
   "execution_count": 36,
   "id": "timely-engine",
   "metadata": {
    "ExecuteTime": {
     "end_time": "2021-09-06T13:40:28.602620Z",
     "start_time": "2021-09-06T13:40:28.595150Z"
    },
    "hidden": true
   },
   "outputs": [
    {
     "data": {
      "text/plain": [
       "(50000, 59)"
      ]
     },
     "execution_count": 36,
     "metadata": {},
     "output_type": "execute_result"
    }
   ],
   "source": [
    "df_features = df_features[list(cat_vars_filtered_threshold) + list(num_vars)]\n",
    "df_features.shape"
   ]
  },
  {
   "cell_type": "code",
   "execution_count": 37,
   "id": "thorough-kennedy",
   "metadata": {
    "ExecuteTime": {
     "end_time": "2021-09-06T13:40:28.615307Z",
     "start_time": "2021-09-06T13:40:28.604019Z"
    },
    "hidden": true
   },
   "outputs": [
    {
     "data": {
      "text/plain": [
       "Var192    0\n",
       "Var193    0\n",
       "Var195    0\n",
       "Var196    0\n",
       "Var197    0\n",
       "Var203    0\n",
       "Var204    0\n",
       "Var205    0\n",
       "Var206    0\n",
       "Var207    0\n",
       "Var208    0\n",
       "Var210    0\n",
       "Var211    0\n",
       "Var212    0\n",
       "Var218    0\n",
       "Var219    0\n",
       "Var221    0\n",
       "Var223    0\n",
       "Var226    0\n",
       "Var227    0\n",
       "Var228    0\n",
       "Var6      0\n",
       "Var7      0\n",
       "Var13     0\n",
       "Var21     0\n",
       "Var22     0\n",
       "Var24     0\n",
       "Var25     0\n",
       "Var28     0\n",
       "Var35     0\n",
       "Var38     0\n",
       "Var44     0\n",
       "Var57     0\n",
       "Var65     0\n",
       "Var73     0\n",
       "Var74     0\n",
       "Var76     0\n",
       "Var78     0\n",
       "Var81     0\n",
       "Var83     0\n",
       "Var85     0\n",
       "Var109    0\n",
       "Var112    0\n",
       "Var113    0\n",
       "Var119    0\n",
       "Var123    0\n",
       "Var125    0\n",
       "Var132    0\n",
       "Var133    0\n",
       "Var134    0\n",
       "Var140    0\n",
       "Var143    0\n",
       "Var144    0\n",
       "Var149    0\n",
       "Var153    0\n",
       "Var160    0\n",
       "Var163    0\n",
       "Var173    0\n",
       "Var181    0\n",
       "dtype: int64"
      ]
     },
     "execution_count": 37,
     "metadata": {},
     "output_type": "execute_result"
    }
   ],
   "source": [
    "df_features.isna().sum()"
   ]
  },
  {
   "cell_type": "code",
   "execution_count": 38,
   "id": "removed-faith",
   "metadata": {
    "ExecuteTime": {
     "end_time": "2021-09-06T13:40:28.655740Z",
     "start_time": "2021-09-06T13:40:28.616411Z"
    },
    "hidden": true
   },
   "outputs": [
    {
     "data": {
      "text/html": [
       "<div>\n",
       "<style scoped>\n",
       "    .dataframe tbody tr th:only-of-type {\n",
       "        vertical-align: middle;\n",
       "    }\n",
       "\n",
       "    .dataframe tbody tr th {\n",
       "        vertical-align: top;\n",
       "    }\n",
       "\n",
       "    .dataframe thead th {\n",
       "        text-align: right;\n",
       "    }\n",
       "</style>\n",
       "<table border=\"1\" class=\"dataframe\">\n",
       "  <thead>\n",
       "    <tr style=\"text-align: right;\">\n",
       "      <th></th>\n",
       "      <th>Var192</th>\n",
       "      <th>Var193</th>\n",
       "      <th>Var195</th>\n",
       "      <th>Var196</th>\n",
       "      <th>Var197</th>\n",
       "      <th>Var203</th>\n",
       "      <th>Var204</th>\n",
       "      <th>Var205</th>\n",
       "      <th>Var206</th>\n",
       "      <th>Var207</th>\n",
       "      <th>...</th>\n",
       "      <th>Var134</th>\n",
       "      <th>Var140</th>\n",
       "      <th>Var143</th>\n",
       "      <th>Var144</th>\n",
       "      <th>Var149</th>\n",
       "      <th>Var153</th>\n",
       "      <th>Var160</th>\n",
       "      <th>Var163</th>\n",
       "      <th>Var173</th>\n",
       "      <th>Var181</th>\n",
       "    </tr>\n",
       "  </thead>\n",
       "  <tbody>\n",
       "    <tr>\n",
       "      <th>0</th>\n",
       "      <td>bZkvyxLkBI</td>\n",
       "      <td>RO12</td>\n",
       "      <td>taul</td>\n",
       "      <td>1K8T</td>\n",
       "      <td>lK27</td>\n",
       "      <td>9_Y1</td>\n",
       "      <td>FbIm</td>\n",
       "      <td>VpdQ</td>\n",
       "      <td>haYg</td>\n",
       "      <td>me75fM6ugJ</td>\n",
       "      <td>...</td>\n",
       "      <td>69134.000000</td>\n",
       "      <td>185.000000</td>\n",
       "      <td>0.000000</td>\n",
       "      <td>9.000000</td>\n",
       "      <td>397579.000000</td>\n",
       "      <td>1.812252e+06</td>\n",
       "      <td>142.000000</td>\n",
       "      <td>38418.000000</td>\n",
       "      <td>0.000000</td>\n",
       "      <td>0.000000</td>\n",
       "    </tr>\n",
       "    <tr>\n",
       "      <th>1</th>\n",
       "      <td>CEat0G8rTN</td>\n",
       "      <td>RO12</td>\n",
       "      <td>taul</td>\n",
       "      <td>1K8T</td>\n",
       "      <td>2Ix5</td>\n",
       "      <td>9_Y1</td>\n",
       "      <td>k13i</td>\n",
       "      <td>sJzTlal</td>\n",
       "      <td>zm5i</td>\n",
       "      <td>me75fM6ugJ</td>\n",
       "      <td>...</td>\n",
       "      <td>357038.000000</td>\n",
       "      <td>0.000000</td>\n",
       "      <td>0.000000</td>\n",
       "      <td>9.000000</td>\n",
       "      <td>278334.000000</td>\n",
       "      <td>1.043916e+07</td>\n",
       "      <td>32.000000</td>\n",
       "      <td>238572.000000</td>\n",
       "      <td>0.000000</td>\n",
       "      <td>0.000000</td>\n",
       "    </tr>\n",
       "    <tr>\n",
       "      <th>2</th>\n",
       "      <td>eOQt0GoOh3</td>\n",
       "      <td>AERks4l</td>\n",
       "      <td>taul</td>\n",
       "      <td>1K8T</td>\n",
       "      <td>ffXs</td>\n",
       "      <td>9_Y1</td>\n",
       "      <td>MGOA</td>\n",
       "      <td>VpdQ</td>\n",
       "      <td>haYg</td>\n",
       "      <td>DHn_WUyBhW_whjA88g9bvA64_</td>\n",
       "      <td>...</td>\n",
       "      <td>248932.000000</td>\n",
       "      <td>800.000000</td>\n",
       "      <td>0.000000</td>\n",
       "      <td>36.000000</td>\n",
       "      <td>320565.000000</td>\n",
       "      <td>9.826360e+06</td>\n",
       "      <td>206.000000</td>\n",
       "      <td>434946.000000</td>\n",
       "      <td>0.000000</td>\n",
       "      <td>0.000000</td>\n",
       "    </tr>\n",
       "    <tr>\n",
       "      <th>3</th>\n",
       "      <td>jg69tYsGvO</td>\n",
       "      <td>RO12</td>\n",
       "      <td>taul</td>\n",
       "      <td>1K8T</td>\n",
       "      <td>ssAy</td>\n",
       "      <td>9_Y1</td>\n",
       "      <td>YULl</td>\n",
       "      <td>VpdQ</td>\n",
       "      <td>missing</td>\n",
       "      <td>me75fM6ugJ</td>\n",
       "      <td>...</td>\n",
       "      <td>0.000000</td>\n",
       "      <td>0.000000</td>\n",
       "      <td>0.000000</td>\n",
       "      <td>11.727665</td>\n",
       "      <td>294920.804255</td>\n",
       "      <td>0.000000e+00</td>\n",
       "      <td>0.000000</td>\n",
       "      <td>0.000000</td>\n",
       "      <td>0.000000</td>\n",
       "      <td>0.000000</td>\n",
       "    </tr>\n",
       "    <tr>\n",
       "      <th>4</th>\n",
       "      <td>IXSgUHShse</td>\n",
       "      <td>RO12</td>\n",
       "      <td>taul</td>\n",
       "      <td>1K8T</td>\n",
       "      <td>uNkU</td>\n",
       "      <td>9_Y1</td>\n",
       "      <td>RVjC</td>\n",
       "      <td>sJzTlal</td>\n",
       "      <td>6JmL</td>\n",
       "      <td>me75fM6ugJ</td>\n",
       "      <td>...</td>\n",
       "      <td>66046.000000</td>\n",
       "      <td>3255.000000</td>\n",
       "      <td>0.000000</td>\n",
       "      <td>9.000000</td>\n",
       "      <td>267162.000000</td>\n",
       "      <td>6.448360e+05</td>\n",
       "      <td>2.000000</td>\n",
       "      <td>0.000000</td>\n",
       "      <td>0.000000</td>\n",
       "      <td>0.000000</td>\n",
       "    </tr>\n",
       "    <tr>\n",
       "      <th>...</th>\n",
       "      <td>...</td>\n",
       "      <td>...</td>\n",
       "      <td>...</td>\n",
       "      <td>...</td>\n",
       "      <td>...</td>\n",
       "      <td>...</td>\n",
       "      <td>...</td>\n",
       "      <td>...</td>\n",
       "      <td>...</td>\n",
       "      <td>...</td>\n",
       "      <td>...</td>\n",
       "      <td>...</td>\n",
       "      <td>...</td>\n",
       "      <td>...</td>\n",
       "      <td>...</td>\n",
       "      <td>...</td>\n",
       "      <td>...</td>\n",
       "      <td>...</td>\n",
       "      <td>...</td>\n",
       "      <td>...</td>\n",
       "      <td>...</td>\n",
       "    </tr>\n",
       "    <tr>\n",
       "      <th>49995</th>\n",
       "      <td>xOXr4RXktW</td>\n",
       "      <td>RO12</td>\n",
       "      <td>taul</td>\n",
       "      <td>1K8T</td>\n",
       "      <td>ZNsX</td>\n",
       "      <td>9_Y1</td>\n",
       "      <td>ZKJc</td>\n",
       "      <td>VpdQ</td>\n",
       "      <td>zm5i</td>\n",
       "      <td>me75fM6ugJ</td>\n",
       "      <td>...</td>\n",
       "      <td>0.000000</td>\n",
       "      <td>0.000000</td>\n",
       "      <td>0.000000</td>\n",
       "      <td>9.000000</td>\n",
       "      <td>604800.000000</td>\n",
       "      <td>1.036704e+07</td>\n",
       "      <td>22.000000</td>\n",
       "      <td>0.000000</td>\n",
       "      <td>0.000000</td>\n",
       "      <td>0.000000</td>\n",
       "    </tr>\n",
       "    <tr>\n",
       "      <th>49996</th>\n",
       "      <td>S8dr4RQxul</td>\n",
       "      <td>2Knk1KF</td>\n",
       "      <td>I9xt3GBDKUbd8</td>\n",
       "      <td>1K8T</td>\n",
       "      <td>JLbT</td>\n",
       "      <td>9_Y1</td>\n",
       "      <td>RVjC</td>\n",
       "      <td>09_Q</td>\n",
       "      <td>sYC_</td>\n",
       "      <td>me75fM6ugJ</td>\n",
       "      <td>...</td>\n",
       "      <td>39652.000000</td>\n",
       "      <td>0.000000</td>\n",
       "      <td>0.000000</td>\n",
       "      <td>9.000000</td>\n",
       "      <td>85120.000000</td>\n",
       "      <td>1.344900e+06</td>\n",
       "      <td>150.000000</td>\n",
       "      <td>9540.000000</td>\n",
       "      <td>0.000000</td>\n",
       "      <td>0.000000</td>\n",
       "    </tr>\n",
       "    <tr>\n",
       "      <th>49997</th>\n",
       "      <td>uUdt0G8EIb</td>\n",
       "      <td>2Knk1KF</td>\n",
       "      <td>taul</td>\n",
       "      <td>1K8T</td>\n",
       "      <td>0Xwj</td>\n",
       "      <td>F3hy</td>\n",
       "      <td>k13i</td>\n",
       "      <td>VpdQ</td>\n",
       "      <td>kxE9</td>\n",
       "      <td>me75fM6ugJ</td>\n",
       "      <td>...</td>\n",
       "      <td>131588.000000</td>\n",
       "      <td>675.000000</td>\n",
       "      <td>0.000000</td>\n",
       "      <td>27.000000</td>\n",
       "      <td>4410.000000</td>\n",
       "      <td>1.242044e+06</td>\n",
       "      <td>124.000000</td>\n",
       "      <td>61734.000000</td>\n",
       "      <td>0.000000</td>\n",
       "      <td>0.000000</td>\n",
       "    </tr>\n",
       "    <tr>\n",
       "      <th>49998</th>\n",
       "      <td>FoxgUHSK8h</td>\n",
       "      <td>RO12</td>\n",
       "      <td>taul</td>\n",
       "      <td>1K8T</td>\n",
       "      <td>AHgj</td>\n",
       "      <td>9_Y1</td>\n",
       "      <td>mTeA</td>\n",
       "      <td>09_Q</td>\n",
       "      <td>missing</td>\n",
       "      <td>me75fM6ugJ</td>\n",
       "      <td>...</td>\n",
       "      <td>437340.384877</td>\n",
       "      <td>1381.259643</td>\n",
       "      <td>0.058012</td>\n",
       "      <td>11.727665</td>\n",
       "      <td>294920.804255</td>\n",
       "      <td>6.181967e+06</td>\n",
       "      <td>38.803005</td>\n",
       "      <td>486077.956658</td>\n",
       "      <td>0.006846</td>\n",
       "      <td>0.611456</td>\n",
       "    </tr>\n",
       "    <tr>\n",
       "      <th>49999</th>\n",
       "      <td>bZkvyxLkBI</td>\n",
       "      <td>RO12</td>\n",
       "      <td>taul</td>\n",
       "      <td>1K8T</td>\n",
       "      <td>TIPl</td>\n",
       "      <td>9_Y1</td>\n",
       "      <td>vzJD</td>\n",
       "      <td>VpdQ</td>\n",
       "      <td>IYzP</td>\n",
       "      <td>me75fM6ugJ</td>\n",
       "      <td>...</td>\n",
       "      <td>95728.000000</td>\n",
       "      <td>3350.000000</td>\n",
       "      <td>0.000000</td>\n",
       "      <td>18.000000</td>\n",
       "      <td>0.000000</td>\n",
       "      <td>1.067980e+07</td>\n",
       "      <td>50.000000</td>\n",
       "      <td>165270.000000</td>\n",
       "      <td>0.000000</td>\n",
       "      <td>0.000000</td>\n",
       "    </tr>\n",
       "  </tbody>\n",
       "</table>\n",
       "<p>50000 rows × 59 columns</p>\n",
       "</div>"
      ],
      "text/plain": [
       "           Var192   Var193         Var195 Var196 Var197 Var203 Var204  \\\n",
       "0      bZkvyxLkBI     RO12           taul   1K8T   lK27   9_Y1   FbIm   \n",
       "1      CEat0G8rTN     RO12           taul   1K8T   2Ix5   9_Y1   k13i   \n",
       "2      eOQt0GoOh3  AERks4l           taul   1K8T   ffXs   9_Y1   MGOA   \n",
       "3      jg69tYsGvO     RO12           taul   1K8T   ssAy   9_Y1   YULl   \n",
       "4      IXSgUHShse     RO12           taul   1K8T   uNkU   9_Y1   RVjC   \n",
       "...           ...      ...            ...    ...    ...    ...    ...   \n",
       "49995  xOXr4RXktW     RO12           taul   1K8T   ZNsX   9_Y1   ZKJc   \n",
       "49996  S8dr4RQxul  2Knk1KF  I9xt3GBDKUbd8   1K8T   JLbT   9_Y1   RVjC   \n",
       "49997  uUdt0G8EIb  2Knk1KF           taul   1K8T   0Xwj   F3hy   k13i   \n",
       "49998  FoxgUHSK8h     RO12           taul   1K8T   AHgj   9_Y1   mTeA   \n",
       "49999  bZkvyxLkBI     RO12           taul   1K8T   TIPl   9_Y1   vzJD   \n",
       "\n",
       "        Var205   Var206                     Var207  ...         Var134  \\\n",
       "0         VpdQ     haYg                 me75fM6ugJ  ...   69134.000000   \n",
       "1      sJzTlal     zm5i                 me75fM6ugJ  ...  357038.000000   \n",
       "2         VpdQ     haYg  DHn_WUyBhW_whjA88g9bvA64_  ...  248932.000000   \n",
       "3         VpdQ  missing                 me75fM6ugJ  ...       0.000000   \n",
       "4      sJzTlal     6JmL                 me75fM6ugJ  ...   66046.000000   \n",
       "...        ...      ...                        ...  ...            ...   \n",
       "49995     VpdQ     zm5i                 me75fM6ugJ  ...       0.000000   \n",
       "49996     09_Q     sYC_                 me75fM6ugJ  ...   39652.000000   \n",
       "49997     VpdQ     kxE9                 me75fM6ugJ  ...  131588.000000   \n",
       "49998     09_Q  missing                 me75fM6ugJ  ...  437340.384877   \n",
       "49999     VpdQ     IYzP                 me75fM6ugJ  ...   95728.000000   \n",
       "\n",
       "            Var140    Var143     Var144         Var149        Var153  \\\n",
       "0       185.000000  0.000000   9.000000  397579.000000  1.812252e+06   \n",
       "1         0.000000  0.000000   9.000000  278334.000000  1.043916e+07   \n",
       "2       800.000000  0.000000  36.000000  320565.000000  9.826360e+06   \n",
       "3         0.000000  0.000000  11.727665  294920.804255  0.000000e+00   \n",
       "4      3255.000000  0.000000   9.000000  267162.000000  6.448360e+05   \n",
       "...            ...       ...        ...            ...           ...   \n",
       "49995     0.000000  0.000000   9.000000  604800.000000  1.036704e+07   \n",
       "49996     0.000000  0.000000   9.000000   85120.000000  1.344900e+06   \n",
       "49997   675.000000  0.000000  27.000000    4410.000000  1.242044e+06   \n",
       "49998  1381.259643  0.058012  11.727665  294920.804255  6.181967e+06   \n",
       "49999  3350.000000  0.000000  18.000000       0.000000  1.067980e+07   \n",
       "\n",
       "           Var160         Var163    Var173    Var181  \n",
       "0      142.000000   38418.000000  0.000000  0.000000  \n",
       "1       32.000000  238572.000000  0.000000  0.000000  \n",
       "2      206.000000  434946.000000  0.000000  0.000000  \n",
       "3        0.000000       0.000000  0.000000  0.000000  \n",
       "4        2.000000       0.000000  0.000000  0.000000  \n",
       "...           ...            ...       ...       ...  \n",
       "49995   22.000000       0.000000  0.000000  0.000000  \n",
       "49996  150.000000    9540.000000  0.000000  0.000000  \n",
       "49997  124.000000   61734.000000  0.000000  0.000000  \n",
       "49998   38.803005  486077.956658  0.006846  0.611456  \n",
       "49999   50.000000  165270.000000  0.000000  0.000000  \n",
       "\n",
       "[50000 rows x 59 columns]"
      ]
     },
     "execution_count": 38,
     "metadata": {},
     "output_type": "execute_result"
    }
   ],
   "source": [
    "df_features"
   ]
  },
  {
   "cell_type": "code",
   "execution_count": 39,
   "id": "municipal-caution",
   "metadata": {
    "ExecuteTime": {
     "end_time": "2021-09-06T13:40:28.808322Z",
     "start_time": "2021-09-06T13:40:28.657231Z"
    },
    "hidden": true
   },
   "outputs": [
    {
     "data": {
      "text/plain": [
       "(50000, 1052)"
      ]
     },
     "execution_count": 39,
     "metadata": {},
     "output_type": "execute_result"
    }
   ],
   "source": [
    "# Feature Selection using Decision Tree\n",
    "\n",
    "# One Hot Encoding -> get dummyes\n",
    "feature_churn = pd.get_dummies(df_features)\n",
    "feature_churn.shape"
   ]
  },
  {
   "cell_type": "code",
   "execution_count": 40,
   "id": "b4a1d068",
   "metadata": {
    "ExecuteTime": {
     "end_time": "2021-09-06T13:40:28.828738Z",
     "start_time": "2021-09-06T13:40:28.810244Z"
    },
    "hidden": true
   },
   "outputs": [
    {
     "data": {
      "text/html": [
       "<div>\n",
       "<style scoped>\n",
       "    .dataframe tbody tr th:only-of-type {\n",
       "        vertical-align: middle;\n",
       "    }\n",
       "\n",
       "    .dataframe tbody tr th {\n",
       "        vertical-align: top;\n",
       "    }\n",
       "\n",
       "    .dataframe thead th {\n",
       "        text-align: right;\n",
       "    }\n",
       "</style>\n",
       "<table border=\"1\" class=\"dataframe\">\n",
       "  <thead>\n",
       "    <tr style=\"text-align: right;\">\n",
       "      <th></th>\n",
       "      <th>Var6</th>\n",
       "      <th>Var7</th>\n",
       "      <th>Var13</th>\n",
       "      <th>Var21</th>\n",
       "      <th>Var22</th>\n",
       "      <th>Var24</th>\n",
       "      <th>Var25</th>\n",
       "      <th>Var28</th>\n",
       "      <th>Var35</th>\n",
       "      <th>Var38</th>\n",
       "      <th>...</th>\n",
       "      <th>Var228__cTCyH95OE93jSkoIBT</th>\n",
       "      <th>Var228_am14IcfM7tWLrUmRT52KtA</th>\n",
       "      <th>Var228_b9qbUNk0dML_Mvi2</th>\n",
       "      <th>Var228_d0LtHjWeaXyArdN4sxU_saXqH</th>\n",
       "      <th>Var228_ib5G6X1eUxUn6</th>\n",
       "      <th>Var228_iyHGyLCEkQ</th>\n",
       "      <th>Var228_n1OBWGkV3fbsHR75taC</th>\n",
       "      <th>Var228_r_7E</th>\n",
       "      <th>Var228_xwM2aC7IdeMC0</th>\n",
       "      <th>Var228_missing</th>\n",
       "    </tr>\n",
       "  </thead>\n",
       "  <tbody>\n",
       "    <tr>\n",
       "      <th>0</th>\n",
       "      <td>1526.000000</td>\n",
       "      <td>7.0</td>\n",
       "      <td>184.0</td>\n",
       "      <td>464.000000</td>\n",
       "      <td>580.0</td>\n",
       "      <td>14.000000</td>\n",
       "      <td>128.0</td>\n",
       "      <td>166.56</td>\n",
       "      <td>0.0</td>\n",
       "      <td>3570.0</td>\n",
       "      <td>...</td>\n",
       "      <td>0</td>\n",
       "      <td>0</td>\n",
       "      <td>0</td>\n",
       "      <td>0</td>\n",
       "      <td>0</td>\n",
       "      <td>0</td>\n",
       "      <td>0</td>\n",
       "      <td>0</td>\n",
       "      <td>0</td>\n",
       "      <td>0</td>\n",
       "    </tr>\n",
       "    <tr>\n",
       "      <th>1</th>\n",
       "      <td>525.000000</td>\n",
       "      <td>0.0</td>\n",
       "      <td>0.0</td>\n",
       "      <td>168.000000</td>\n",
       "      <td>210.0</td>\n",
       "      <td>2.000000</td>\n",
       "      <td>24.0</td>\n",
       "      <td>353.52</td>\n",
       "      <td>0.0</td>\n",
       "      <td>4764966.0</td>\n",
       "      <td>...</td>\n",
       "      <td>0</td>\n",
       "      <td>0</td>\n",
       "      <td>0</td>\n",
       "      <td>0</td>\n",
       "      <td>0</td>\n",
       "      <td>0</td>\n",
       "      <td>0</td>\n",
       "      <td>0</td>\n",
       "      <td>0</td>\n",
       "      <td>0</td>\n",
       "    </tr>\n",
       "    <tr>\n",
       "      <th>2</th>\n",
       "      <td>5236.000000</td>\n",
       "      <td>7.0</td>\n",
       "      <td>904.0</td>\n",
       "      <td>1212.000000</td>\n",
       "      <td>1515.0</td>\n",
       "      <td>26.000000</td>\n",
       "      <td>816.0</td>\n",
       "      <td>220.08</td>\n",
       "      <td>0.0</td>\n",
       "      <td>5883894.0</td>\n",
       "      <td>...</td>\n",
       "      <td>0</td>\n",
       "      <td>0</td>\n",
       "      <td>0</td>\n",
       "      <td>0</td>\n",
       "      <td>1</td>\n",
       "      <td>0</td>\n",
       "      <td>0</td>\n",
       "      <td>0</td>\n",
       "      <td>0</td>\n",
       "      <td>0</td>\n",
       "    </tr>\n",
       "    <tr>\n",
       "      <th>3</th>\n",
       "      <td>1326.437116</td>\n",
       "      <td>0.0</td>\n",
       "      <td>0.0</td>\n",
       "      <td>234.518225</td>\n",
       "      <td>0.0</td>\n",
       "      <td>4.507926</td>\n",
       "      <td>0.0</td>\n",
       "      <td>22.08</td>\n",
       "      <td>0.0</td>\n",
       "      <td>0.0</td>\n",
       "      <td>...</td>\n",
       "      <td>0</td>\n",
       "      <td>0</td>\n",
       "      <td>0</td>\n",
       "      <td>0</td>\n",
       "      <td>0</td>\n",
       "      <td>0</td>\n",
       "      <td>0</td>\n",
       "      <td>0</td>\n",
       "      <td>0</td>\n",
       "      <td>0</td>\n",
       "    </tr>\n",
       "    <tr>\n",
       "      <th>4</th>\n",
       "      <td>1029.000000</td>\n",
       "      <td>7.0</td>\n",
       "      <td>3216.0</td>\n",
       "      <td>64.000000</td>\n",
       "      <td>80.0</td>\n",
       "      <td>4.000000</td>\n",
       "      <td>64.0</td>\n",
       "      <td>200.00</td>\n",
       "      <td>0.0</td>\n",
       "      <td>0.0</td>\n",
       "      <td>...</td>\n",
       "      <td>0</td>\n",
       "      <td>0</td>\n",
       "      <td>0</td>\n",
       "      <td>0</td>\n",
       "      <td>0</td>\n",
       "      <td>0</td>\n",
       "      <td>0</td>\n",
       "      <td>0</td>\n",
       "      <td>0</td>\n",
       "      <td>0</td>\n",
       "    </tr>\n",
       "  </tbody>\n",
       "</table>\n",
       "<p>5 rows × 1052 columns</p>\n",
       "</div>"
      ],
      "text/plain": [
       "          Var6  Var7   Var13        Var21   Var22      Var24  Var25   Var28  \\\n",
       "0  1526.000000   7.0   184.0   464.000000   580.0  14.000000  128.0  166.56   \n",
       "1   525.000000   0.0     0.0   168.000000   210.0   2.000000   24.0  353.52   \n",
       "2  5236.000000   7.0   904.0  1212.000000  1515.0  26.000000  816.0  220.08   \n",
       "3  1326.437116   0.0     0.0   234.518225     0.0   4.507926    0.0   22.08   \n",
       "4  1029.000000   7.0  3216.0    64.000000    80.0   4.000000   64.0  200.00   \n",
       "\n",
       "   Var35      Var38  ...  Var228__cTCyH95OE93jSkoIBT  \\\n",
       "0    0.0     3570.0  ...                           0   \n",
       "1    0.0  4764966.0  ...                           0   \n",
       "2    0.0  5883894.0  ...                           0   \n",
       "3    0.0        0.0  ...                           0   \n",
       "4    0.0        0.0  ...                           0   \n",
       "\n",
       "   Var228_am14IcfM7tWLrUmRT52KtA  Var228_b9qbUNk0dML_Mvi2  \\\n",
       "0                              0                        0   \n",
       "1                              0                        0   \n",
       "2                              0                        0   \n",
       "3                              0                        0   \n",
       "4                              0                        0   \n",
       "\n",
       "   Var228_d0LtHjWeaXyArdN4sxU_saXqH  Var228_ib5G6X1eUxUn6  Var228_iyHGyLCEkQ  \\\n",
       "0                                 0                     0                  0   \n",
       "1                                 0                     0                  0   \n",
       "2                                 0                     1                  0   \n",
       "3                                 0                     0                  0   \n",
       "4                                 0                     0                  0   \n",
       "\n",
       "   Var228_n1OBWGkV3fbsHR75taC  Var228_r_7E  Var228_xwM2aC7IdeMC0  \\\n",
       "0                           0            0                     0   \n",
       "1                           0            0                     0   \n",
       "2                           0            0                     0   \n",
       "3                           0            0                     0   \n",
       "4                           0            0                     0   \n",
       "\n",
       "   Var228_missing  \n",
       "0               0  \n",
       "1               0  \n",
       "2               0  \n",
       "3               0  \n",
       "4               0  \n",
       "\n",
       "[5 rows x 1052 columns]"
      ]
     },
     "execution_count": 40,
     "metadata": {},
     "output_type": "execute_result"
    }
   ],
   "source": [
    "feature_churn.head()"
   ]
  },
  {
   "cell_type": "code",
   "execution_count": 41,
   "id": "cbe82e07",
   "metadata": {
    "ExecuteTime": {
     "end_time": "2021-09-06T13:40:28.834472Z",
     "start_time": "2021-09-06T13:40:28.829755Z"
    },
    "hidden": true
   },
   "outputs": [
    {
     "name": "stdout",
     "output_type": "stream",
     "text": [
      "<class 'pandas.core.frame.DataFrame'>\n",
      "   0\n",
      "0 -1\n",
      "1  1\n",
      "2 -1\n",
      "3 -1\n",
      "4 -1\n",
      "[[-1]\n",
      " [ 1]\n",
      " [-1]\n",
      " ...\n",
      " [-1]\n",
      " [-1]\n",
      " [-1]]\n",
      "[-1  1 -1 ... -1 -1 -1]\n"
     ]
    }
   ],
   "source": [
    "# hadling with data labels\n",
    "print(type(df_labels))\n",
    "print(df_labels.head())\n",
    "print(np.array(df_labels))\n",
    "print(np.array(df_labels).ravel())"
   ]
  },
  {
   "cell_type": "code",
   "execution_count": 42,
   "id": "ea0312e9",
   "metadata": {
    "ExecuteTime": {
     "end_time": "2021-09-06T13:40:28.841139Z",
     "start_time": "2021-09-06T13:40:28.835969Z"
    },
    "hidden": true
   },
   "outputs": [
    {
     "data": {
      "text/plain": [
       "array([-1,  1, -1, ..., -1, -1, -1])"
      ]
     },
     "execution_count": 42,
     "metadata": {},
     "output_type": "execute_result"
    }
   ],
   "source": [
    "np.array(df_labels).ravel()"
   ]
  },
  {
   "cell_type": "code",
   "execution_count": 43,
   "id": "6489b0b7",
   "metadata": {
    "ExecuteTime": {
     "end_time": "2021-09-06T13:40:28.845170Z",
     "start_time": "2021-09-06T13:40:28.842239Z"
    },
    "hidden": true
   },
   "outputs": [],
   "source": [
    "def feat_importances(features, labels):\n",
    "    model = ExtraTreesClassifier(n_estimators=200,\n",
    "                                criterion='entropy',\n",
    "                                verbose=0)\n",
    "    model.fit(features, np.array(labels).ravel())\n",
    "    \n",
    "    importances = model.feature_importances_\n",
    "    variables = np.array(features.columns)\n",
    "    indices = np.argsort(importances)[::-1]\n",
    "    importances = importances[indices]\n",
    "    variables = variables[indices]\n",
    "    \n",
    "    return variables, importances"
   ]
  },
  {
   "cell_type": "code",
   "execution_count": 44,
   "id": "dfd2e5b2",
   "metadata": {
    "ExecuteTime": {
     "end_time": "2021-09-06T13:41:36.688028Z",
     "start_time": "2021-09-06T13:40:28.846133Z"
    },
    "hidden": true
   },
   "outputs": [],
   "source": [
    "variables, importances = feat_importances(feature_churn, df_labels)"
   ]
  },
  {
   "cell_type": "code",
   "execution_count": 45,
   "id": "ed38bd83",
   "metadata": {
    "ExecuteTime": {
     "end_time": "2021-09-06T13:41:36.691919Z",
     "start_time": "2021-09-06T13:41:36.688969Z"
    },
    "hidden": true
   },
   "outputs": [
    {
     "name": "stdout",
     "output_type": "stream",
     "text": [
      "<class 'numpy.ndarray'>\n"
     ]
    },
    {
     "data": {
      "text/plain": [
       "array(['Var57', 'Var113', 'Var73', ..., 'Var226_missing',\n",
       "       'Var207_missing', 'Var228_missing'], dtype=object)"
      ]
     },
     "execution_count": 45,
     "metadata": {},
     "output_type": "execute_result"
    }
   ],
   "source": [
    "print(type(variables))\n",
    "variables"
   ]
  },
  {
   "cell_type": "code",
   "execution_count": 46,
   "id": "f27447f6",
   "metadata": {
    "ExecuteTime": {
     "end_time": "2021-09-06T13:41:36.714068Z",
     "start_time": "2021-09-06T13:41:36.692960Z"
    },
    "hidden": true
   },
   "outputs": [
    {
     "data": {
      "text/plain": [
       "array([0.01788183, 0.01742179, 0.01733135, ..., 0.        , 0.        ,\n",
       "       0.        ])"
      ]
     },
     "execution_count": 46,
     "metadata": {},
     "output_type": "execute_result"
    }
   ],
   "source": [
    "importances"
   ]
  },
  {
   "cell_type": "code",
   "execution_count": 47,
   "id": "41c97865",
   "metadata": {
    "ExecuteTime": {
     "end_time": "2021-09-06T13:41:36.717891Z",
     "start_time": "2021-09-06T13:41:36.715226Z"
    },
    "hidden": true
   },
   "outputs": [
    {
     "name": "stdout",
     "output_type": "stream",
     "text": [
      "Var57 0.01788182741218257\n"
     ]
    }
   ],
   "source": [
    "print(variables[0], importances[0])"
   ]
  },
  {
   "cell_type": "code",
   "execution_count": 48,
   "id": "58fe5170",
   "metadata": {
    "ExecuteTime": {
     "end_time": "2021-09-06T13:41:36.721437Z",
     "start_time": "2021-09-06T13:41:36.718888Z"
    },
    "hidden": true
   },
   "outputs": [],
   "source": [
    "def sum_and_plot_importances(variables, importances):\n",
    "    sum_importances = pd.DataFrame()\n",
    "    for i in range(importances.size):\n",
    "        sum_importance = importances[:(i+1)].sum()\n",
    "        this_variable = pd.Series([variables[i], sum_importance])\n",
    "        sum_importances = sum_importances.append(this_variable, ignore_index=True)\n",
    "    plt.scatter(sum_importances.index, sum_importances.iloc[:,1])\n",
    "\n",
    "    return sum_importances"
   ]
  },
  {
   "cell_type": "code",
   "execution_count": 49,
   "id": "39c05c2c",
   "metadata": {
    "ExecuteTime": {
     "end_time": "2021-09-06T13:41:38.436363Z",
     "start_time": "2021-09-06T13:41:36.722371Z"
    },
    "hidden": true
   },
   "outputs": [
    {
     "data": {
      "image/png": "[encoded data removed]",
      "text/plain": [
       "<Figure size 432x288 with 1 Axes>"
      ]
     },
     "metadata": {
      "needs_background": "light"
     },
     "output_type": "display_data"
    }
   ],
   "source": [
    "sum_importances = sum_and_plot_importances(variables, importances)"
   ]
  },
  {
   "cell_type": "code",
   "execution_count": 50,
   "id": "3e758a2a",
   "metadata": {
    "ExecuteTime": {
     "end_time": "2021-09-06T13:41:38.445042Z",
     "start_time": "2021-09-06T13:41:38.437332Z"
    },
    "hidden": true
   },
   "outputs": [
    {
     "data": {
      "text/html": [
       "<div>\n",
       "<style scoped>\n",
       "    .dataframe tbody tr th:only-of-type {\n",
       "        vertical-align: middle;\n",
       "    }\n",
       "\n",
       "    .dataframe tbody tr th {\n",
       "        vertical-align: top;\n",
       "    }\n",
       "\n",
       "    .dataframe thead th {\n",
       "        text-align: right;\n",
       "    }\n",
       "</style>\n",
       "<table border=\"1\" class=\"dataframe\">\n",
       "  <thead>\n",
       "    <tr style=\"text-align: right;\">\n",
       "      <th></th>\n",
       "      <th>0</th>\n",
       "      <th>1</th>\n",
       "    </tr>\n",
       "  </thead>\n",
       "  <tbody>\n",
       "    <tr>\n",
       "      <th>0</th>\n",
       "      <td>Var57</td>\n",
       "      <td>0.017882</td>\n",
       "    </tr>\n",
       "    <tr>\n",
       "      <th>1</th>\n",
       "      <td>Var113</td>\n",
       "      <td>0.035304</td>\n",
       "    </tr>\n",
       "    <tr>\n",
       "      <th>2</th>\n",
       "      <td>Var73</td>\n",
       "      <td>0.052635</td>\n",
       "    </tr>\n",
       "    <tr>\n",
       "      <th>3</th>\n",
       "      <td>Var81</td>\n",
       "      <td>0.066291</td>\n",
       "    </tr>\n",
       "    <tr>\n",
       "      <th>4</th>\n",
       "      <td>Var153</td>\n",
       "      <td>0.079888</td>\n",
       "    </tr>\n",
       "    <tr>\n",
       "      <th>...</th>\n",
       "      <td>...</td>\n",
       "      <td>...</td>\n",
       "    </tr>\n",
       "    <tr>\n",
       "      <th>1047</th>\n",
       "      <td>Var204_missing</td>\n",
       "      <td>1.000000</td>\n",
       "    </tr>\n",
       "    <tr>\n",
       "      <th>1048</th>\n",
       "      <td>Var221_missing</td>\n",
       "      <td>1.000000</td>\n",
       "    </tr>\n",
       "    <tr>\n",
       "      <th>1049</th>\n",
       "      <td>Var226_missing</td>\n",
       "      <td>1.000000</td>\n",
       "    </tr>\n",
       "    <tr>\n",
       "      <th>1050</th>\n",
       "      <td>Var207_missing</td>\n",
       "      <td>1.000000</td>\n",
       "    </tr>\n",
       "    <tr>\n",
       "      <th>1051</th>\n",
       "      <td>Var228_missing</td>\n",
       "      <td>1.000000</td>\n",
       "    </tr>\n",
       "  </tbody>\n",
       "</table>\n",
       "<p>1052 rows × 2 columns</p>\n",
       "</div>"
      ],
      "text/plain": [
       "                   0         1\n",
       "0              Var57  0.017882\n",
       "1             Var113  0.035304\n",
       "2              Var73  0.052635\n",
       "3              Var81  0.066291\n",
       "4             Var153  0.079888\n",
       "...              ...       ...\n",
       "1047  Var204_missing  1.000000\n",
       "1048  Var221_missing  1.000000\n",
       "1049  Var226_missing  1.000000\n",
       "1050  Var207_missing  1.000000\n",
       "1051  Var228_missing  1.000000\n",
       "\n",
       "[1052 rows x 2 columns]"
      ]
     },
     "execution_count": 50,
     "metadata": {},
     "output_type": "execute_result"
    }
   ],
   "source": [
    "sum_importances"
   ]
  },
  {
   "cell_type": "code",
   "execution_count": 51,
   "id": "14ecfa32",
   "metadata": {
    "ExecuteTime": {
     "end_time": "2021-09-06T13:41:38.449361Z",
     "start_time": "2021-09-06T13:41:38.446875Z"
    },
    "hidden": true
   },
   "outputs": [],
   "source": [
    "# Defining function to remove importances because a threshold\n",
    "def features_filtered_threshold(features ,sum_importances, threshold):\n",
    "    keep_vars = list(sum_importances[sum_importances.iloc[:,1] <= threshold].iloc[:,0])\n",
    "    features = features.loc[:, keep_vars]\n",
    "    \n",
    "    return features"
   ]
  },
  {
   "cell_type": "code",
   "execution_count": 52,
   "id": "31e195a1",
   "metadata": {
    "ExecuteTime": {
     "end_time": "2021-09-06T13:41:38.469918Z",
     "start_time": "2021-09-06T13:41:38.451297Z"
    },
    "hidden": true
   },
   "outputs": [],
   "source": [
    "feature_churn = features_filtered_threshold(feature_churn, sum_importances, threshold=0.99)"
   ]
  },
  {
   "cell_type": "code",
   "execution_count": 53,
   "id": "8dfa8cf8",
   "metadata": {
    "ExecuteTime": {
     "end_time": "2021-09-06T13:41:38.473881Z",
     "start_time": "2021-09-06T13:41:38.470994Z"
    },
    "hidden": true
   },
   "outputs": [
    {
     "data": {
      "text/plain": [
       "(50000, 685)"
      ]
     },
     "execution_count": 53,
     "metadata": {},
     "output_type": "execute_result"
    }
   ],
   "source": [
    "feature_churn.shape"
   ]
  },
  {
   "cell_type": "code",
   "execution_count": 54,
   "id": "27ec713f",
   "metadata": {
    "ExecuteTime": {
     "end_time": "2021-09-06T13:41:38.490612Z",
     "start_time": "2021-09-06T13:41:38.474823Z"
    },
    "hidden": true
   },
   "outputs": [
    {
     "data": {
      "text/html": [
       "<div>\n",
       "<style scoped>\n",
       "    .dataframe tbody tr th:only-of-type {\n",
       "        vertical-align: middle;\n",
       "    }\n",
       "\n",
       "    .dataframe tbody tr th {\n",
       "        vertical-align: top;\n",
       "    }\n",
       "\n",
       "    .dataframe thead th {\n",
       "        text-align: right;\n",
       "    }\n",
       "</style>\n",
       "<table border=\"1\" class=\"dataframe\">\n",
       "  <thead>\n",
       "    <tr style=\"text-align: right;\">\n",
       "      <th></th>\n",
       "      <th>Var57</th>\n",
       "      <th>Var113</th>\n",
       "      <th>Var73</th>\n",
       "      <th>Var81</th>\n",
       "      <th>Var153</th>\n",
       "      <th>Var133</th>\n",
       "      <th>Var76</th>\n",
       "      <th>Var38</th>\n",
       "      <th>Var134</th>\n",
       "      <th>Var28</th>\n",
       "      <th>...</th>\n",
       "      <th>Var192_dPsBcmRZ57</th>\n",
       "      <th>Var192_czzTmBGxe3</th>\n",
       "      <th>Var204_7JiV</th>\n",
       "      <th>Var228_DU8B</th>\n",
       "      <th>Var193_w9ygS99Qp_</th>\n",
       "      <th>Var219_tdJW_Pm</th>\n",
       "      <th>Var192_xOXTmBkF1Q</th>\n",
       "      <th>Var192_CEaWq6KZjV</th>\n",
       "      <th>Var212_6z7lZp6XhQkon</th>\n",
       "      <th>Var207_6C53VA1kCv</th>\n",
       "    </tr>\n",
       "  </thead>\n",
       "  <tbody>\n",
       "    <tr>\n",
       "      <th>0</th>\n",
       "      <td>4.076907</td>\n",
       "      <td>117625.60</td>\n",
       "      <td>36.0</td>\n",
       "      <td>7333.110000</td>\n",
       "      <td>1812252.0</td>\n",
       "      <td>1212385.0</td>\n",
       "      <td>1350864.0</td>\n",
       "      <td>3570.0</td>\n",
       "      <td>69134.0</td>\n",
       "      <td>166.56</td>\n",
       "      <td>...</td>\n",
       "      <td>0</td>\n",
       "      <td>0</td>\n",
       "      <td>0</td>\n",
       "      <td>0</td>\n",
       "      <td>0</td>\n",
       "      <td>0</td>\n",
       "      <td>0</td>\n",
       "      <td>0</td>\n",
       "      <td>0</td>\n",
       "      <td>0</td>\n",
       "    </tr>\n",
       "    <tr>\n",
       "      <th>1</th>\n",
       "      <td>5.408032</td>\n",
       "      <td>-356411.60</td>\n",
       "      <td>26.0</td>\n",
       "      <td>151098.900000</td>\n",
       "      <td>10439160.0</td>\n",
       "      <td>4136430.0</td>\n",
       "      <td>2872928.0</td>\n",
       "      <td>4764966.0</td>\n",
       "      <td>357038.0</td>\n",
       "      <td>353.52</td>\n",
       "      <td>...</td>\n",
       "      <td>0</td>\n",
       "      <td>0</td>\n",
       "      <td>0</td>\n",
       "      <td>0</td>\n",
       "      <td>0</td>\n",
       "      <td>0</td>\n",
       "      <td>0</td>\n",
       "      <td>0</td>\n",
       "      <td>0</td>\n",
       "      <td>0</td>\n",
       "    </tr>\n",
       "    <tr>\n",
       "      <th>2</th>\n",
       "      <td>6.599658</td>\n",
       "      <td>405104.00</td>\n",
       "      <td>130.0</td>\n",
       "      <td>16211.580000</td>\n",
       "      <td>9826360.0</td>\n",
       "      <td>3478905.0</td>\n",
       "      <td>1675776.0</td>\n",
       "      <td>5883894.0</td>\n",
       "      <td>248932.0</td>\n",
       "      <td>220.08</td>\n",
       "      <td>...</td>\n",
       "      <td>0</td>\n",
       "      <td>0</td>\n",
       "      <td>0</td>\n",
       "      <td>0</td>\n",
       "      <td>0</td>\n",
       "      <td>0</td>\n",
       "      <td>0</td>\n",
       "      <td>0</td>\n",
       "      <td>0</td>\n",
       "      <td>0</td>\n",
       "    </tr>\n",
       "    <tr>\n",
       "      <th>3</th>\n",
       "      <td>1.988250</td>\n",
       "      <td>-275703.60</td>\n",
       "      <td>12.0</td>\n",
       "      <td>103084.052693</td>\n",
       "      <td>0.0</td>\n",
       "      <td>0.0</td>\n",
       "      <td>0.0</td>\n",
       "      <td>0.0</td>\n",
       "      <td>0.0</td>\n",
       "      <td>22.08</td>\n",
       "      <td>...</td>\n",
       "      <td>0</td>\n",
       "      <td>0</td>\n",
       "      <td>0</td>\n",
       "      <td>0</td>\n",
       "      <td>0</td>\n",
       "      <td>0</td>\n",
       "      <td>0</td>\n",
       "      <td>0</td>\n",
       "      <td>0</td>\n",
       "      <td>0</td>\n",
       "    </tr>\n",
       "    <tr>\n",
       "      <th>4</th>\n",
       "      <td>4.552446</td>\n",
       "      <td>10714.84</td>\n",
       "      <td>82.0</td>\n",
       "      <td>37423.500000</td>\n",
       "      <td>644836.0</td>\n",
       "      <td>150650.0</td>\n",
       "      <td>784448.0</td>\n",
       "      <td>0.0</td>\n",
       "      <td>66046.0</td>\n",
       "      <td>200.00</td>\n",
       "      <td>...</td>\n",
       "      <td>0</td>\n",
       "      <td>0</td>\n",
       "      <td>0</td>\n",
       "      <td>0</td>\n",
       "      <td>0</td>\n",
       "      <td>0</td>\n",
       "      <td>0</td>\n",
       "      <td>0</td>\n",
       "      <td>0</td>\n",
       "      <td>0</td>\n",
       "    </tr>\n",
       "  </tbody>\n",
       "</table>\n",
       "<p>5 rows × 685 columns</p>\n",
       "</div>"
      ],
      "text/plain": [
       "      Var57     Var113  Var73          Var81      Var153     Var133  \\\n",
       "0  4.076907  117625.60   36.0    7333.110000   1812252.0  1212385.0   \n",
       "1  5.408032 -356411.60   26.0  151098.900000  10439160.0  4136430.0   \n",
       "2  6.599658  405104.00  130.0   16211.580000   9826360.0  3478905.0   \n",
       "3  1.988250 -275703.60   12.0  103084.052693         0.0        0.0   \n",
       "4  4.552446   10714.84   82.0   37423.500000    644836.0   150650.0   \n",
       "\n",
       "       Var76      Var38    Var134   Var28  ...  Var192_dPsBcmRZ57  \\\n",
       "0  1350864.0     3570.0   69134.0  166.56  ...                  0   \n",
       "1  2872928.0  4764966.0  357038.0  353.52  ...                  0   \n",
       "2  1675776.0  5883894.0  248932.0  220.08  ...                  0   \n",
       "3        0.0        0.0       0.0   22.08  ...                  0   \n",
       "4   784448.0        0.0   66046.0  200.00  ...                  0   \n",
       "\n",
       "   Var192_czzTmBGxe3  Var204_7JiV  Var228_DU8B  Var193_w9ygS99Qp_  \\\n",
       "0                  0            0            0                  0   \n",
       "1                  0            0            0                  0   \n",
       "2                  0            0            0                  0   \n",
       "3                  0            0            0                  0   \n",
       "4                  0            0            0                  0   \n",
       "\n",
       "   Var219_tdJW_Pm  Var192_xOXTmBkF1Q  Var192_CEaWq6KZjV  Var212_6z7lZp6XhQkon  \\\n",
       "0               0                  0                  0                     0   \n",
       "1               0                  0                  0                     0   \n",
       "2               0                  0                  0                     0   \n",
       "3               0                  0                  0                     0   \n",
       "4               0                  0                  0                     0   \n",
       "\n",
       "   Var207_6C53VA1kCv  \n",
       "0                  0  \n",
       "1                  0  \n",
       "2                  0  \n",
       "3                  0  \n",
       "4                  0  \n",
       "\n",
       "[5 rows x 685 columns]"
      ]
     },
     "execution_count": 54,
     "metadata": {},
     "output_type": "execute_result"
    }
   ],
   "source": [
    "feature_churn.head()"
   ]
  },
  {
   "cell_type": "markdown",
   "id": "47347c66",
   "metadata": {
    "heading_collapsed": true
   },
   "source": [
    "### Spliting dataset between trainning and testing"
   ]
  },
  {
   "cell_type": "code",
   "execution_count": 55,
   "id": "d57a6a9b",
   "metadata": {
    "ExecuteTime": {
     "end_time": "2021-09-06T13:41:38.494289Z",
     "start_time": "2021-09-06T13:41:38.491783Z"
    },
    "hidden": true
   },
   "outputs": [],
   "source": [
    "def split_data(features, labels, test_size):\n",
    "    X_train, X_test, y_train, y_test = train_test_split(features, labels, test_size=test_size, stratify=labels, random_state=0)\n",
    "    y_train, y_test = np.array(y_train).ravel(), np.array(y_test).ravel()\n",
    "    return X_train, X_test, y_train, y_test"
   ]
  },
  {
   "cell_type": "code",
   "execution_count": 56,
   "id": "dc6999ed",
   "metadata": {
    "ExecuteTime": {
     "end_time": "2021-09-06T13:41:38.850839Z",
     "start_time": "2021-09-06T13:41:38.495365Z"
    },
    "hidden": true
   },
   "outputs": [
    {
     "name": "stdout",
     "output_type": "stream",
     "text": [
      "(40000, 685) (40000,)\n",
      "(10000, 685) (10000,)\n"
     ]
    }
   ],
   "source": [
    "X_train, X_test, y_train, y_test = split_data(feature_churn, df_labels, test_size=0.2)\n",
    "print(X_train.shape, y_train.shape)\n",
    "print(X_test.shape, y_test.shape)"
   ]
  },
  {
   "cell_type": "markdown",
   "id": "7bfb66b2",
   "metadata": {
    "heading_collapsed": true
   },
   "source": [
    "### Pre-Modeling"
   ]
  },
  {
   "cell_type": "markdown",
   "id": "080f48bc",
   "metadata": {
    "heading_collapsed": true,
    "hidden": true
   },
   "source": [
    "#### Random Forest Classifier"
   ]
  },
  {
   "cell_type": "code",
   "execution_count": 57,
   "id": "05ff0609",
   "metadata": {
    "ExecuteTime": {
     "end_time": "2021-09-06T13:41:38.854154Z",
     "start_time": "2021-09-06T13:41:38.851765Z"
    },
    "hidden": true
   },
   "outputs": [],
   "source": [
    "def rfc_test(X_train, y_train, n_estimators = 100, cv = 10):\n",
    "    np.random.seed(0)\n",
    "    rfc = RandomForestClassifier(n_estimators=n_estimators,\n",
    "                                random_state=0,\n",
    "                                n_jobs=-1)\n",
    "    cv_scores = cross_val_score(rfc, X_train, y_train, scoring='roc_auc', cv=cv, n_jobs=-1)\n",
    "    print(\"The average of cv_scores: \", cv_scores.mean())"
   ]
  },
  {
   "cell_type": "code",
   "execution_count": 58,
   "id": "f086c927",
   "metadata": {
    "ExecuteTime": {
     "end_time": "2021-09-06T13:42:23.023179Z",
     "start_time": "2021-09-06T13:41:38.855166Z"
    },
    "hidden": true
   },
   "outputs": [
    {
     "name": "stdout",
     "output_type": "stream",
     "text": [
      "The average of cv_scores:  0.6318577352378455\n"
     ]
    }
   ],
   "source": [
    "rfc_test(X_train, y_train)"
   ]
  },
  {
   "cell_type": "markdown",
   "id": "a9e00fe0",
   "metadata": {
    "heading_collapsed": true,
    "hidden": true
   },
   "source": [
    "#### Gradient Boosting Classifier"
   ]
  },
  {
   "cell_type": "code",
   "execution_count": 59,
   "id": "e7a93213",
   "metadata": {
    "ExecuteTime": {
     "end_time": "2021-09-06T13:42:23.027712Z",
     "start_time": "2021-09-06T13:42:23.024459Z"
    },
    "hidden": true
   },
   "outputs": [],
   "source": [
    "def gbc_test(X_train, y_train, learning_rate = 0.1, n_estimators = 100, cv = 10):\n",
    "    np.random.seed(0)\n",
    "    gbc = GradientBoostingClassifier(n_estimators=n_estimators,\n",
    "                                    learning_rate=learning_rate,\n",
    "                                    random_state=0)\n",
    "    cv_scores = cross_val_score(gbc, X_train, y_train, scoring='roc_auc', cv=cv, n_jobs=-1)\n",
    "    print('The average of cv_scores: ', cv_scores.mean())"
   ]
  },
  {
   "cell_type": "code",
   "execution_count": 60,
   "id": "2a6ebea7",
   "metadata": {
    "ExecuteTime": {
     "end_time": "2021-09-06T13:43:31.756410Z",
     "start_time": "2021-09-06T13:42:23.029054Z"
    },
    "hidden": true
   },
   "outputs": [
    {
     "name": "stdout",
     "output_type": "stream",
     "text": [
      "The average of cv_scores:  0.6717121236814819\n"
     ]
    }
   ],
   "source": [
    "gbc_test(X_train, y_train)"
   ]
  },
  {
   "cell_type": "code",
   "execution_count": 61,
   "id": "faed6395",
   "metadata": {
    "ExecuteTime": {
     "end_time": "2021-09-06T13:43:31.769437Z",
     "start_time": "2021-09-06T13:43:31.760717Z"
    },
    "hidden": true
   },
   "outputs": [
    {
     "name": "stdout",
     "output_type": "stream",
     "text": [
      "The % improvement:  7.107171747198208\n"
     ]
    }
   ],
   "source": [
    "print('The % improvement: ', 0.6712068696927659/0.6266684655598926 * 100 - 100)"
   ]
  },
  {
   "cell_type": "markdown",
   "id": "4181e929",
   "metadata": {},
   "source": [
    "### Optimizing the GBC Model"
   ]
  },
  {
   "cell_type": "code",
   "execution_count": 62,
   "id": "f35250fb",
   "metadata": {
    "ExecuteTime": {
     "end_time": "2021-09-06T13:43:31.789147Z",
     "start_time": "2021-09-06T13:43:31.773379Z"
    }
   },
   "outputs": [],
   "source": [
    "def optimize(n_estimators,\n",
    "            learning_rate,\n",
    "            min_samples_split,\n",
    "            min_samples_leaf,\n",
    "            max_depth,\n",
    "            max_features,\n",
    "            subsamples,\n",
    "            params,\n",
    "            cv=10):\n",
    "    np.random.seed(0)\n",
    "    gbc = GradientBoostingClassifier(n_estimators=n_estimators,\n",
    "                                    learning_rate = learning_rate,\n",
    "                                    min_samples_split = min_samples_split,\n",
    "                                    min_samples_leaf = min_samples_leaf,\n",
    "                                    max_depth = max_depth,\n",
    "                                    max_features = max_features,\n",
    "                                    random_state=0)\n",
    "    grid_search = GridSearchCV(estimator=gbc,\n",
    "                              param_grid=params,\n",
    "                              scoring='roc_auc',\n",
    "                              n_jobs=-1,\n",
    "                              cv=cv)\n",
    "    grid_search.fit(X_train, y_train)\n",
    "    \n",
    "    results = grid_search.cv_results_\n",
    "    best_params = grid_search.best_params_ \n",
    "    best_score = grid_search.best_score_\n",
    "    print(best_params, best_score)\n",
    "    \n",
    "    return gbc, best_params, best_score"
   ]
  },
  {
   "cell_type": "code",
   "execution_count": 63,
   "id": "3c822660",
   "metadata": {
    "ExecuteTime": {
     "end_time": "2021-09-06T13:43:31.796251Z",
     "start_time": "2021-09-06T13:43:31.792189Z"
    }
   },
   "outputs": [],
   "source": [
    "models = np.array([])\n",
    "opt_params = dict()\n",
    "scores = np.array([])"
   ]
  },
  {
   "cell_type": "markdown",
   "id": "c8c47877",
   "metadata": {
    "heading_collapsed": true
   },
   "source": [
    "#### Model 0: Optimizing n_estimators with learning_rate = 0.1"
   ]
  },
  {
   "cell_type": "code",
   "execution_count": 64,
   "id": "a01a3476",
   "metadata": {
    "ExecuteTime": {
     "end_time": "2021-09-06T13:43:31.802174Z",
     "start_time": "2021-09-06T13:43:31.798329Z"
    },
    "hidden": true
   },
   "outputs": [],
   "source": [
    "# Model 0\n",
    "n_estimators = None \n",
    "learning_rate = 0.1\n",
    "min_samples_split = 250 #The minimum number of samples required to split an internal node:\n",
    "min_samples_leaf = 20 #The minimum number of samples required to be at a leaf node. \n",
    "max_depth = 8 #The maximum depth of the individual regression estimators.\n",
    "max_features = 'sqrt' #The number of features to consider when looking for the best split\n",
    "subsamples = 0.8\n",
    "params = {'n_estimators': range(50,151,10)}"
   ]
  },
  {
   "cell_type": "code",
   "execution_count": 65,
   "id": "f9af606f",
   "metadata": {
    "ExecuteTime": {
     "end_time": "2021-09-06T13:45:15.406497Z",
     "start_time": "2021-09-06T13:43:31.803933Z"
    },
    "hidden": true
   },
   "outputs": [
    {
     "name": "stdout",
     "output_type": "stream",
     "text": [
      "{'n_estimators': 60} 0.6693494209834734\n"
     ]
    }
   ],
   "source": [
    "gbc, best_params, best_score = optimize(n_estimators=n_estimators,\n",
    "                                        learning_rate=learning_rate,\n",
    "                                        min_samples_split=min_samples_split,\n",
    "                                        min_samples_leaf=min_samples_leaf,\n",
    "                                        max_depth=max_depth,\n",
    "                                        max_features=max_features,\n",
    "                                        subsamples=subsamples,\n",
    "                                        params=params)"
   ]
  },
  {
   "cell_type": "code",
   "execution_count": 66,
   "id": "53f6431e",
   "metadata": {
    "ExecuteTime": {
     "end_time": "2021-09-06T13:45:15.412807Z",
     "start_time": "2021-09-06T13:45:15.407764Z"
    },
    "hidden": true
   },
   "outputs": [
    {
     "data": {
      "text/plain": [
       "array([GradientBoostingClassifier(max_depth=8, max_features='sqrt',\n",
       "                                  min_samples_leaf=20, min_samples_split=250,\n",
       "                                  n_estimators=None, random_state=0)         ],\n",
       "      dtype=object)"
      ]
     },
     "execution_count": 66,
     "metadata": {},
     "output_type": "execute_result"
    }
   ],
   "source": [
    "models = np.append(models, gbc)\n",
    "models"
   ]
  },
  {
   "cell_type": "code",
   "execution_count": 67,
   "id": "1607e126",
   "metadata": {
    "ExecuteTime": {
     "end_time": "2021-09-06T13:45:15.424398Z",
     "start_time": "2021-09-06T13:45:15.420789Z"
    },
    "hidden": true
   },
   "outputs": [
    {
     "data": {
      "text/plain": [
       "{'n_estimators': 60}"
      ]
     },
     "execution_count": 67,
     "metadata": {},
     "output_type": "execute_result"
    }
   ],
   "source": [
    "opt_params = {**opt_params, **best_params}\n",
    "opt_params"
   ]
  },
  {
   "cell_type": "code",
   "execution_count": 68,
   "id": "02f778b4",
   "metadata": {
    "ExecuteTime": {
     "end_time": "2021-09-06T13:45:15.429752Z",
     "start_time": "2021-09-06T13:45:15.425821Z"
    },
    "hidden": true
   },
   "outputs": [
    {
     "data": {
      "text/plain": [
       "array([0.66934942])"
      ]
     },
     "execution_count": 68,
     "metadata": {},
     "output_type": "execute_result"
    }
   ],
   "source": [
    "scores = np.append(scores, best_score)\n",
    "scores"
   ]
  },
  {
   "cell_type": "markdown",
   "id": "96bb26c4",
   "metadata": {
    "heading_collapsed": true
   },
   "source": [
    "#### Optimizing max_depth and min_samples_split"
   ]
  },
  {
   "cell_type": "code",
   "execution_count": 69,
   "id": "8fc6dcda",
   "metadata": {
    "ExecuteTime": {
     "end_time": "2021-09-06T13:45:15.433564Z",
     "start_time": "2021-09-06T13:45:15.430745Z"
    },
    "hidden": true
   },
   "outputs": [],
   "source": [
    "# Model 1\n",
    "n_estimators = opt_params['n_estimators'] \n",
    "learning_rate = 0.1\n",
    "min_samples_split = None #The minimum number of samples required to split an internal node:\n",
    "min_samples_leaf = 20 #The minimum number of samples required to be at a leaf node. \n",
    "max_depth = None #The maximum depth of the individual regression estimators.\n",
    "max_features = 'sqrt' #The number of features to consider when looking for the best split\n",
    "subsamples = 0.8\n",
    "params = {'min_samples_split': range(150,401,50), 'max_depth': range(3,12,2)}"
   ]
  },
  {
   "cell_type": "code",
   "execution_count": 70,
   "id": "aeb9c083",
   "metadata": {
    "ExecuteTime": {
     "end_time": "2021-09-06T13:47:48.021519Z",
     "start_time": "2021-09-06T13:45:15.434510Z"
    },
    "hidden": true
   },
   "outputs": [
    {
     "name": "stdout",
     "output_type": "stream",
     "text": [
      "{'max_depth': 7, 'min_samples_split': 250} 0.6710223045104259\n"
     ]
    }
   ],
   "source": [
    "gbc, best_params, best_score = optimize(n_estimators=n_estimators,\n",
    "                                        learning_rate=learning_rate,\n",
    "                                        min_samples_split=min_samples_split,\n",
    "                                        min_samples_leaf=min_samples_leaf,\n",
    "                                        max_depth=max_depth,\n",
    "                                        max_features=max_features,\n",
    "                                        subsamples=subsamples,\n",
    "                                        params=params)"
   ]
  },
  {
   "cell_type": "code",
   "execution_count": 71,
   "id": "0d7fe620",
   "metadata": {
    "ExecuteTime": {
     "end_time": "2021-09-06T13:47:48.026226Z",
     "start_time": "2021-09-06T13:47:48.022634Z"
    },
    "hidden": true
   },
   "outputs": [
    {
     "data": {
      "text/plain": [
       "array([GradientBoostingClassifier(max_depth=8, max_features='sqrt',\n",
       "                                  min_samples_leaf=20, min_samples_split=250,\n",
       "                                  n_estimators=None, random_state=0)         ,\n",
       "       GradientBoostingClassifier(max_depth=None, max_features='sqrt',\n",
       "                                  min_samples_leaf=20, min_samples_split=None,\n",
       "                                  n_estimators=60, random_state=0)            ],\n",
       "      dtype=object)"
      ]
     },
     "execution_count": 71,
     "metadata": {},
     "output_type": "execute_result"
    }
   ],
   "source": [
    "models = np.append(models, gbc)\n",
    "models"
   ]
  },
  {
   "cell_type": "code",
   "execution_count": 72,
   "id": "d5206588",
   "metadata": {
    "ExecuteTime": {
     "end_time": "2021-09-06T13:47:48.033303Z",
     "start_time": "2021-09-06T13:47:48.027213Z"
    },
    "hidden": true
   },
   "outputs": [
    {
     "data": {
      "text/plain": [
       "{'n_estimators': 60, 'max_depth': 7, 'min_samples_split': 250}"
      ]
     },
     "execution_count": 72,
     "metadata": {},
     "output_type": "execute_result"
    }
   ],
   "source": [
    "opt_params = {**opt_params, **best_params}\n",
    "opt_params"
   ]
  },
  {
   "cell_type": "code",
   "execution_count": 73,
   "id": "24bd0f4a",
   "metadata": {
    "ExecuteTime": {
     "end_time": "2021-09-06T13:47:48.038832Z",
     "start_time": "2021-09-06T13:47:48.034864Z"
    },
    "hidden": true
   },
   "outputs": [
    {
     "data": {
      "text/plain": [
       "array([0.66934942, 0.6710223 ])"
      ]
     },
     "execution_count": 73,
     "metadata": {},
     "output_type": "execute_result"
    }
   ],
   "source": [
    "scores = np.append(scores, best_score)\n",
    "scores"
   ]
  },
  {
   "cell_type": "markdown",
   "id": "08b7f0f3",
   "metadata": {
    "ExecuteTime": {
     "end_time": "2021-09-06T13:49:03.836362Z",
     "start_time": "2021-09-06T13:49:03.834031Z"
    },
    "heading_collapsed": true
   },
   "source": [
    "#### Optimizing min_samples_leaf"
   ]
  },
  {
   "cell_type": "code",
   "execution_count": 75,
   "id": "0e87dfef",
   "metadata": {
    "ExecuteTime": {
     "end_time": "2021-09-06T13:51:49.204177Z",
     "start_time": "2021-09-06T13:51:49.201371Z"
    },
    "hidden": true
   },
   "outputs": [],
   "source": [
    "# Model 2\n",
    "n_estimators = opt_params['n_estimators'] \n",
    "learning_rate = 0.1\n",
    "min_samples_split = opt_params['min_samples_split'] #The minimum number of samples required to split an internal node:\n",
    "min_samples_leaf = None #The minimum number of samples required to be at a leaf node. \n",
    "max_depth = opt_params['max_depth'] #The maximum depth of the individual regression estimators.\n",
    "max_features = 'sqrt' #The number of features to consider when looking for the best split\n",
    "subsamples = 0.8\n",
    "params = {'min_samples_leaf': range(25,61,5)}"
   ]
  },
  {
   "cell_type": "code",
   "execution_count": 76,
   "id": "c4eb95c2",
   "metadata": {
    "ExecuteTime": {
     "end_time": "2021-09-06T13:52:41.007900Z",
     "start_time": "2021-09-06T13:51:55.841739Z"
    },
    "hidden": true
   },
   "outputs": [
    {
     "name": "stdout",
     "output_type": "stream",
     "text": [
      "{'min_samples_leaf': 35} 0.6737548910972564\n"
     ]
    }
   ],
   "source": [
    "gbc, best_params, best_score = optimize(n_estimators=n_estimators,\n",
    "                                        learning_rate=learning_rate,\n",
    "                                        min_samples_split=min_samples_split,\n",
    "                                        min_samples_leaf=min_samples_leaf,\n",
    "                                        max_depth=max_depth,\n",
    "                                        max_features=max_features,\n",
    "                                        subsamples=subsamples,\n",
    "                                        params=params)"
   ]
  },
  {
   "cell_type": "code",
   "execution_count": 77,
   "id": "7433614a",
   "metadata": {
    "ExecuteTime": {
     "end_time": "2021-09-06T13:52:50.911207Z",
     "start_time": "2021-09-06T13:52:50.897756Z"
    },
    "hidden": true
   },
   "outputs": [
    {
     "data": {
      "text/plain": [
       "array([GradientBoostingClassifier(max_depth=8, max_features='sqrt',\n",
       "                                  min_samples_leaf=20, min_samples_split=250,\n",
       "                                  n_estimators=None, random_state=0)         ,\n",
       "       GradientBoostingClassifier(max_depth=None, max_features='sqrt',\n",
       "                                  min_samples_leaf=20, min_samples_split=None,\n",
       "                                  n_estimators=60, random_state=0)            ,\n",
       "       GradientBoostingClassifier(max_depth=7, max_features='sqrt',\n",
       "                                  min_samples_leaf=None, min_samples_split=250,\n",
       "                                  n_estimators=60, random_state=0)             ],\n",
       "      dtype=object)"
      ]
     },
     "execution_count": 77,
     "metadata": {},
     "output_type": "execute_result"
    }
   ],
   "source": [
    "models = np.append(models, gbc)\n",
    "models"
   ]
  },
  {
   "cell_type": "code",
   "execution_count": 78,
   "id": "bb4717b6",
   "metadata": {
    "ExecuteTime": {
     "end_time": "2021-09-06T13:52:57.693545Z",
     "start_time": "2021-09-06T13:52:57.689479Z"
    },
    "hidden": true
   },
   "outputs": [
    {
     "data": {
      "text/plain": [
       "{'n_estimators': 60,\n",
       " 'max_depth': 7,\n",
       " 'min_samples_split': 250,\n",
       " 'min_samples_leaf': 35}"
      ]
     },
     "execution_count": 78,
     "metadata": {},
     "output_type": "execute_result"
    }
   ],
   "source": [
    "opt_params = {**opt_params, **best_params}\n",
    "opt_params"
   ]
  },
  {
   "cell_type": "code",
   "execution_count": 79,
   "id": "daad50f9",
   "metadata": {
    "ExecuteTime": {
     "end_time": "2021-09-06T13:53:05.197544Z",
     "start_time": "2021-09-06T13:53:05.194376Z"
    },
    "hidden": true
   },
   "outputs": [
    {
     "data": {
      "text/plain": [
       "array([0.66934942, 0.6710223 , 0.67375489])"
      ]
     },
     "execution_count": 79,
     "metadata": {},
     "output_type": "execute_result"
    }
   ],
   "source": [
    "scores = np.append(scores, best_score)\n",
    "scores"
   ]
  },
  {
   "cell_type": "markdown",
   "id": "1e820ab7",
   "metadata": {
    "heading_collapsed": true
   },
   "source": [
    "#### Optimizing max_features"
   ]
  },
  {
   "cell_type": "code",
   "execution_count": 80,
   "id": "01c3828a",
   "metadata": {
    "ExecuteTime": {
     "end_time": "2021-09-06T13:55:42.114203Z",
     "start_time": "2021-09-06T13:55:42.111398Z"
    },
    "hidden": true
   },
   "outputs": [],
   "source": [
    "# Model 2\n",
    "n_estimators = opt_params['n_estimators'] \n",
    "learning_rate = 0.1\n",
    "min_samples_split = opt_params['min_samples_split'] #The minimum number of samples required to split an internal node:\n",
    "min_samples_leaf = opt_params['min_samples_leaf'] #The minimum number of samples required to be at a leaf node. \n",
    "max_depth = opt_params['max_depth'] #The maximum depth of the individual regression estimators.\n",
    "max_features = None #The number of features to consider when looking for the best split\n",
    "subsamples = 0.8\n",
    "params = {'max_features': range(21,31,1)}"
   ]
  },
  {
   "cell_type": "code",
   "execution_count": 81,
   "id": "e88d99ac",
   "metadata": {
    "ExecuteTime": {
     "end_time": "2021-09-06T13:56:46.045015Z",
     "start_time": "2021-09-06T13:55:50.498964Z"
    },
    "hidden": true
   },
   "outputs": [
    {
     "name": "stdout",
     "output_type": "stream",
     "text": [
      "{'max_features': 27} 0.6750080201502024\n"
     ]
    }
   ],
   "source": [
    "gbc, best_params, best_score = optimize(n_estimators=n_estimators,\n",
    "                                        learning_rate=learning_rate,\n",
    "                                        min_samples_split=min_samples_split,\n",
    "                                        min_samples_leaf=min_samples_leaf,\n",
    "                                        max_depth=max_depth,\n",
    "                                        max_features=max_features,\n",
    "                                        subsamples=subsamples,\n",
    "                                        params=params)"
   ]
  },
  {
   "cell_type": "code",
   "execution_count": 82,
   "id": "232620f6",
   "metadata": {
    "ExecuteTime": {
     "end_time": "2021-09-06T13:56:51.588961Z",
     "start_time": "2021-09-06T13:56:51.581248Z"
    },
    "hidden": true
   },
   "outputs": [
    {
     "data": {
      "text/plain": [
       "array([GradientBoostingClassifier(max_depth=8, max_features='sqrt',\n",
       "                                  min_samples_leaf=20, min_samples_split=250,\n",
       "                                  n_estimators=None, random_state=0)         ,\n",
       "       GradientBoostingClassifier(max_depth=None, max_features='sqrt',\n",
       "                                  min_samples_leaf=20, min_samples_split=None,\n",
       "                                  n_estimators=60, random_state=0)            ,\n",
       "       GradientBoostingClassifier(max_depth=7, max_features='sqrt',\n",
       "                                  min_samples_leaf=None, min_samples_split=250,\n",
       "                                  n_estimators=60, random_state=0)             ,\n",
       "       GradientBoostingClassifier(max_depth=7, min_samples_leaf=35,\n",
       "                                  min_samples_split=250, n_estimators=60,\n",
       "                                  random_state=0)                        ],\n",
       "      dtype=object)"
      ]
     },
     "execution_count": 82,
     "metadata": {},
     "output_type": "execute_result"
    }
   ],
   "source": [
    "models = np.append(models, gbc)\n",
    "models"
   ]
  },
  {
   "cell_type": "code",
   "execution_count": 83,
   "id": "befdc2f8",
   "metadata": {
    "ExecuteTime": {
     "end_time": "2021-09-06T13:56:59.433926Z",
     "start_time": "2021-09-06T13:56:59.429316Z"
    },
    "hidden": true
   },
   "outputs": [
    {
     "data": {
      "text/plain": [
       "{'n_estimators': 60,\n",
       " 'max_depth': 7,\n",
       " 'min_samples_split': 250,\n",
       " 'min_samples_leaf': 35,\n",
       " 'max_features': 27}"
      ]
     },
     "execution_count": 83,
     "metadata": {},
     "output_type": "execute_result"
    }
   ],
   "source": [
    "opt_params = {**opt_params, **best_params}\n",
    "opt_params"
   ]
  },
  {
   "cell_type": "code",
   "execution_count": 84,
   "id": "1cd372f9",
   "metadata": {
    "ExecuteTime": {
     "end_time": "2021-09-06T13:57:07.146954Z",
     "start_time": "2021-09-06T13:57:07.136518Z"
    },
    "hidden": true
   },
   "outputs": [
    {
     "data": {
      "text/plain": [
       "array([0.66934942, 0.6710223 , 0.67375489, 0.67500802])"
      ]
     },
     "execution_count": 84,
     "metadata": {},
     "output_type": "execute_result"
    }
   ],
   "source": [
    "scores = np.append(scores, best_score)\n",
    "scores"
   ]
  },
  {
   "cell_type": "markdown",
   "id": "0a04d759",
   "metadata": {},
   "source": [
    "#### Optimizing n_estimators and learning_rate"
   ]
  },
  {
   "cell_type": "code",
   "execution_count": 100,
   "id": "681314c1",
   "metadata": {
    "ExecuteTime": {
     "end_time": "2021-09-06T14:18:03.571128Z",
     "start_time": "2021-09-06T14:18:03.567731Z"
    }
   },
   "outputs": [],
   "source": [
    "def optimize2(n_estimators,\n",
    "            learning_rate,\n",
    "            min_samples_split,\n",
    "            min_samples_leaf,\n",
    "            max_depth,\n",
    "            max_features,\n",
    "            cv=10):\n",
    "    np.random.seed(0)\n",
    "    gbc = GradientBoostingClassifier(n_estimators=n_estimators,\n",
    "                                    learning_rate = learning_rate,\n",
    "                                    min_samples_split = min_samples_split,\n",
    "                                    min_samples_leaf = min_samples_leaf,\n",
    "                                    max_depth = max_depth,\n",
    "                                    max_features = max_features,\n",
    "                                    random_state=0)\n",
    "    cv_scores = cross_val_score(gbc, X_train, y_train, scoring='roc_auc', cv=cv, n_jobs=-1)\n",
    "    score = cv_scores.mean()\n",
    "    plt.plot(np.append(scores, score));\n",
    "    plt.title('n_estimators = {} / learning_rate = {}'.format(n_estimators, learning_rate))\n",
    "    \n",
    "    return gbc, score "
   ]
  },
  {
   "cell_type": "code",
   "execution_count": 101,
   "id": "41b863d2",
   "metadata": {
    "ExecuteTime": {
     "end_time": "2021-09-06T14:18:04.097497Z",
     "start_time": "2021-09-06T14:18:04.092162Z"
    }
   },
   "outputs": [],
   "source": [
    "learning_rate = 0.1 \n",
    "n_estimators = opt_params['n_estimators']"
   ]
  },
  {
   "cell_type": "code",
   "execution_count": 102,
   "id": "05dfde25",
   "metadata": {
    "ExecuteTime": {
     "end_time": "2021-09-06T14:18:04.589277Z",
     "start_time": "2021-09-06T14:18:04.582320Z"
    }
   },
   "outputs": [],
   "source": [
    "# Model 5\n",
    "n_estimators = opt_params['n_estimators'] * 2\n",
    "learning_rate = learning_rate / 2\n",
    "min_samples_split = opt_params['min_samples_split'] #The minimum number of samples required to split an internal node:\n",
    "min_samples_leaf = opt_params['min_samples_leaf'] #The minimum number of samples required to be at a leaf node. \n",
    "max_depth = opt_params['max_depth'] #The maximum depth of the individual regression estimators.\n",
    "max_features = opt_params['max_features'] #The number of features to consider when looking for the best split"
   ]
  },
  {
   "cell_type": "code",
   "execution_count": 103,
   "id": "c20dc3e9",
   "metadata": {
    "ExecuteTime": {
     "end_time": "2021-09-06T14:18:15.740910Z",
     "start_time": "2021-09-06T14:18:05.063486Z"
    }
   },
   "outputs": [
    {
     "data": {
      "image/png": "[encoded data removed]",
      "text/plain": [
       "<Figure size 432x288 with 1 Axes>"
      ]
     },
     "metadata": {
      "needs_background": "light"
     },
     "output_type": "display_data"
    }
   ],
   "source": [
    "gbc, best_score = optimize2(n_estimators=n_estimators,\n",
    "                            learning_rate=learning_rate,\n",
    "                            min_samples_split=min_samples_split,\n",
    "                            min_samples_leaf=min_samples_leaf,\n",
    "                            max_depth=max_depth,\n",
    "                            max_features=max_features)"
   ]
  },
  {
   "cell_type": "code",
   "execution_count": 105,
   "id": "39d208cc",
   "metadata": {
    "ExecuteTime": {
     "end_time": "2021-09-06T14:18:41.913286Z",
     "start_time": "2021-09-06T14:18:41.908365Z"
    }
   },
   "outputs": [
    {
     "data": {
      "text/plain": [
       "0.6714659064180626"
      ]
     },
     "execution_count": 105,
     "metadata": {},
     "output_type": "execute_result"
    }
   ],
   "source": [
    "best_score "
   ]
  },
  {
   "cell_type": "code",
   "execution_count": 106,
   "id": "4ac8dec6",
   "metadata": {
    "ExecuteTime": {
     "end_time": "2021-09-06T14:19:03.089263Z",
     "start_time": "2021-09-06T14:19:03.084040Z"
    }
   },
   "outputs": [
    {
     "data": {
      "text/plain": [
       "array([GradientBoostingClassifier(max_depth=8, max_features='sqrt',\n",
       "                                  min_samples_leaf=20, min_samples_split=250,\n",
       "                                  n_estimators=None, random_state=0)         ,\n",
       "       GradientBoostingClassifier(max_depth=None, max_features='sqrt',\n",
       "                                  min_samples_leaf=20, min_samples_split=None,\n",
       "                                  n_estimators=60, random_state=0)            ,\n",
       "       GradientBoostingClassifier(max_depth=7, max_features='sqrt',\n",
       "                                  min_samples_leaf=None, min_samples_split=250,\n",
       "                                  n_estimators=60, random_state=0)             ,\n",
       "       GradientBoostingClassifier(max_depth=7, min_samples_leaf=35,\n",
       "                                  min_samples_split=250, n_estimators=60,\n",
       "                                  random_state=0)                        ,\n",
       "       GradientBoostingClassifier(max_depth=7, min_samples_leaf=35,\n",
       "                                  min_samples_split=250, n_estimators=60,\n",
       "                                  random_state=0)                        ,\n",
       "       GradientBoostingClassifier(learning_rate=0.05, max_depth=7, max_features=27,\n",
       "                                  min_samples_leaf=35, min_samples_split=250,\n",
       "                                  n_estimators=120, random_state=0)                ],\n",
       "      dtype=object)"
      ]
     },
     "execution_count": 106,
     "metadata": {},
     "output_type": "execute_result"
    }
   ],
   "source": [
    "models = np.append(models, gbc)\n",
    "models"
   ]
  },
  {
   "cell_type": "code",
   "execution_count": 107,
   "id": "93d39365",
   "metadata": {
    "ExecuteTime": {
     "end_time": "2021-09-06T14:19:12.859377Z",
     "start_time": "2021-09-06T14:19:12.855507Z"
    }
   },
   "outputs": [
    {
     "data": {
      "text/plain": [
       "array([0.66934942, 0.6710223 , 0.67375489, 0.67500802, 0.67146591])"
      ]
     },
     "execution_count": 107,
     "metadata": {},
     "output_type": "execute_result"
    }
   ],
   "source": [
    "scores = np.append(scores, best_score)\n",
    "scores"
   ]
  },
  {
   "cell_type": "code",
   "execution_count": 108,
   "id": "f501b1d7",
   "metadata": {
    "ExecuteTime": {
     "end_time": "2021-09-06T14:19:52.194813Z",
     "start_time": "2021-09-06T14:19:52.188756Z"
    }
   },
   "outputs": [],
   "source": [
    "# Model 6\n",
    "n_estimators = opt_params['n_estimators'] * 5\n",
    "learning_rate = learning_rate / 5\n",
    "min_samples_split = opt_params['min_samples_split'] #The minimum number of samples required to split an internal node:\n",
    "min_samples_leaf = opt_params['min_samples_leaf'] #The minimum number of samples required to be at a leaf node. \n",
    "max_depth = opt_params['max_depth'] #The maximum depth of the individual regression estimators.\n",
    "max_features = opt_params['max_features'] #The number of features to consider when looking for the best split"
   ]
  },
  {
   "cell_type": "code",
   "execution_count": 109,
   "id": "ba78ae3a",
   "metadata": {
    "ExecuteTime": {
     "end_time": "2021-09-06T14:20:25.398307Z",
     "start_time": "2021-09-06T14:19:57.060441Z"
    }
   },
   "outputs": [
    {
     "data": {
      "image/png": "[encoded data removed]",
      "text/plain": [
       "<Figure size 432x288 with 1 Axes>"
      ]
     },
     "metadata": {
      "needs_background": "light"
     },
     "output_type": "display_data"
    }
   ],
   "source": [
    "gbc, best_score = optimize2(n_estimators=n_estimators,\n",
    "                            learning_rate=learning_rate,\n",
    "                            min_samples_split=min_samples_split,\n",
    "                            min_samples_leaf=min_samples_leaf,\n",
    "                            max_depth=max_depth,\n",
    "                            max_features=max_features)"
   ]
  },
  {
   "cell_type": "code",
   "execution_count": 110,
   "id": "4fe1175f",
   "metadata": {
    "ExecuteTime": {
     "end_time": "2021-09-06T14:20:29.993506Z",
     "start_time": "2021-09-06T14:20:29.987884Z"
    }
   },
   "outputs": [
    {
     "data": {
      "text/plain": [
       "0.6727147367617226"
      ]
     },
     "execution_count": 110,
     "metadata": {},
     "output_type": "execute_result"
    }
   ],
   "source": [
    "best_score "
   ]
  },
  {
   "cell_type": "code",
   "execution_count": 111,
   "id": "7d183323",
   "metadata": {
    "ExecuteTime": {
     "end_time": "2021-09-06T14:20:38.646476Z",
     "start_time": "2021-09-06T14:20:38.631127Z"
    }
   },
   "outputs": [
    {
     "data": {
      "text/plain": [
       "array([GradientBoostingClassifier(max_depth=8, max_features='sqrt',\n",
       "                                  min_samples_leaf=20, min_samples_split=250,\n",
       "                                  n_estimators=None, random_state=0)         ,\n",
       "       GradientBoostingClassifier(max_depth=None, max_features='sqrt',\n",
       "                                  min_samples_leaf=20, min_samples_split=None,\n",
       "                                  n_estimators=60, random_state=0)            ,\n",
       "       GradientBoostingClassifier(max_depth=7, max_features='sqrt',\n",
       "                                  min_samples_leaf=None, min_samples_split=250,\n",
       "                                  n_estimators=60, random_state=0)             ,\n",
       "       GradientBoostingClassifier(max_depth=7, min_samples_leaf=35,\n",
       "                                  min_samples_split=250, n_estimators=60,\n",
       "                                  random_state=0)                        ,\n",
       "       GradientBoostingClassifier(max_depth=7, min_samples_leaf=35,\n",
       "                                  min_samples_split=250, n_estimators=60,\n",
       "                                  random_state=0)                        ,\n",
       "       GradientBoostingClassifier(learning_rate=0.05, max_depth=7, max_features=27,\n",
       "                                  min_samples_leaf=35, min_samples_split=250,\n",
       "                                  n_estimators=120, random_state=0)                ,\n",
       "       GradientBoostingClassifier(learning_rate=0.01, max_depth=7, max_features=27,\n",
       "                                  min_samples_leaf=35, min_samples_split=250,\n",
       "                                  n_estimators=300, random_state=0)                ],\n",
       "      dtype=object)"
      ]
     },
     "execution_count": 111,
     "metadata": {},
     "output_type": "execute_result"
    }
   ],
   "source": [
    "models = np.append(models, gbc)\n",
    "models"
   ]
  },
  {
   "cell_type": "code",
   "execution_count": 112,
   "id": "4ec25fdb",
   "metadata": {
    "ExecuteTime": {
     "end_time": "2021-09-06T14:20:43.306795Z",
     "start_time": "2021-09-06T14:20:43.296229Z"
    }
   },
   "outputs": [
    {
     "data": {
      "text/plain": [
       "array([0.66934942, 0.6710223 , 0.67375489, 0.67500802, 0.67146591,\n",
       "       0.67271474])"
      ]
     },
     "execution_count": 112,
     "metadata": {},
     "output_type": "execute_result"
    }
   ],
   "source": [
    "scores = np.append(scores, best_score)\n",
    "scores"
   ]
  },
  {
   "cell_type": "code",
   "execution_count": 118,
   "id": "98423432",
   "metadata": {
    "ExecuteTime": {
     "end_time": "2021-09-06T14:24:46.593964Z",
     "start_time": "2021-09-06T14:24:46.588397Z"
    }
   },
   "outputs": [],
   "source": [
    "# Model 7\n",
    "n_estimators = 2000\n",
    "learning_rate = learning_rate / 2\n",
    "min_samples_split = opt_params['min_samples_split'] #The minimum number of samples required to split an internal node:\n",
    "min_samples_leaf = opt_params['min_samples_leaf'] #The minimum number of samples required to be at a leaf node. \n",
    "max_depth = opt_params['max_depth'] #The maximum depth of the individual regression estimators.\n",
    "max_features = opt_params['max_features'] #The number of features to consider when looking for the best split"
   ]
  },
  {
   "cell_type": "code",
   "execution_count": 119,
   "id": "eba90d2b",
   "metadata": {
    "ExecuteTime": {
     "end_time": "2021-09-06T14:27:39.200740Z",
     "start_time": "2021-09-06T14:24:47.375001Z"
    }
   },
   "outputs": [
    {
     "data": {
      "image/png": "[encoded data removed]",
      "text/plain": [
       "<Figure size 432x288 with 1 Axes>"
      ]
     },
     "metadata": {
      "needs_background": "light"
     },
     "output_type": "display_data"
    }
   ],
   "source": [
    "gbc, best_score = optimize2(n_estimators=n_estimators,\n",
    "                            learning_rate=learning_rate,\n",
    "                            min_samples_split=min_samples_split,\n",
    "                            min_samples_leaf=min_samples_leaf,\n",
    "                            max_depth=max_depth,\n",
    "                            max_features=max_features)"
   ]
  },
  {
   "cell_type": "code",
   "execution_count": 120,
   "id": "6f90a734",
   "metadata": {
    "ExecuteTime": {
     "end_time": "2021-09-06T14:27:54.378729Z",
     "start_time": "2021-09-06T14:27:54.373359Z"
    }
   },
   "outputs": [
    {
     "data": {
      "text/plain": [
       "0.6761028017251032"
      ]
     },
     "execution_count": 120,
     "metadata": {},
     "output_type": "execute_result"
    }
   ],
   "source": [
    "best_score"
   ]
  },
  {
   "cell_type": "code",
   "execution_count": 121,
   "id": "77662488",
   "metadata": {
    "ExecuteTime": {
     "end_time": "2021-09-06T14:27:57.399275Z",
     "start_time": "2021-09-06T14:27:57.389468Z"
    }
   },
   "outputs": [
    {
     "data": {
      "text/plain": [
       "array([GradientBoostingClassifier(max_depth=8, max_features='sqrt',\n",
       "                                  min_samples_leaf=20, min_samples_split=250,\n",
       "                                  n_estimators=None, random_state=0)         ,\n",
       "       GradientBoostingClassifier(max_depth=None, max_features='sqrt',\n",
       "                                  min_samples_leaf=20, min_samples_split=None,\n",
       "                                  n_estimators=60, random_state=0)            ,\n",
       "       GradientBoostingClassifier(max_depth=7, max_features='sqrt',\n",
       "                                  min_samples_leaf=None, min_samples_split=250,\n",
       "                                  n_estimators=60, random_state=0)             ,\n",
       "       GradientBoostingClassifier(max_depth=7, min_samples_leaf=35,\n",
       "                                  min_samples_split=250, n_estimators=60,\n",
       "                                  random_state=0)                        ,\n",
       "       GradientBoostingClassifier(max_depth=7, min_samples_leaf=35,\n",
       "                                  min_samples_split=250, n_estimators=60,\n",
       "                                  random_state=0)                        ,\n",
       "       GradientBoostingClassifier(learning_rate=0.05, max_depth=7, max_features=27,\n",
       "                                  min_samples_leaf=35, min_samples_split=250,\n",
       "                                  n_estimators=120, random_state=0)                ,\n",
       "       GradientBoostingClassifier(learning_rate=0.01, max_depth=7, max_features=27,\n",
       "                                  min_samples_leaf=35, min_samples_split=250,\n",
       "                                  n_estimators=300, random_state=0)                ,\n",
       "       GradientBoostingClassifier(learning_rate=0.005, max_depth=7, max_features=27,\n",
       "                                  min_samples_leaf=35, min_samples_split=250,\n",
       "                                  n_estimators=120, random_state=0)                 ,\n",
       "       GradientBoostingClassifier(learning_rate=0.0025, max_depth=7, max_features=27,\n",
       "                                  min_samples_leaf=35, min_samples_split=250,\n",
       "                                  n_estimators=2000, random_state=0)                 ],\n",
       "      dtype=object)"
      ]
     },
     "execution_count": 121,
     "metadata": {},
     "output_type": "execute_result"
    }
   ],
   "source": [
    "models = np.append(models, gbc)\n",
    "models"
   ]
  },
  {
   "cell_type": "code",
   "execution_count": 122,
   "id": "94899fb9",
   "metadata": {
    "ExecuteTime": {
     "end_time": "2021-09-06T14:28:00.758587Z",
     "start_time": "2021-09-06T14:28:00.750141Z"
    }
   },
   "outputs": [
    {
     "data": {
      "text/plain": [
       "array([0.66934942, 0.6710223 , 0.67375489, 0.67500802, 0.67146591,\n",
       "       0.67271474, 0.66120944, 0.6761028 ])"
      ]
     },
     "execution_count": 122,
     "metadata": {},
     "output_type": "execute_result"
    }
   ],
   "source": [
    "scores = np.append(scores, best_score)\n",
    "scores"
   ]
  },
  {
   "cell_type": "code",
   "execution_count": 123,
   "id": "b4f2e109",
   "metadata": {
    "ExecuteTime": {
     "end_time": "2021-09-06T14:28:16.170261Z",
     "start_time": "2021-09-06T14:28:16.167718Z"
    }
   },
   "outputs": [],
   "source": [
    "# Model 8\n",
    "n_estimators = n_estimators * 5\n",
    "learning_rate = learning_rate / 5\n",
    "min_samples_split = opt_params['min_samples_split'] #The minimum number of samples required to split an internal node:\n",
    "min_samples_leaf = opt_params['min_samples_leaf'] #The minimum number of samples required to be at a leaf node. \n",
    "max_depth = opt_params['max_depth'] #The maximum depth of the individual regression estimators.\n",
    "max_features = opt_params['max_features'] #The number of features to consider when looking for the best split"
   ]
  },
  {
   "cell_type": "code",
   "execution_count": 124,
   "id": "0fc75e5c",
   "metadata": {
    "ExecuteTime": {
     "end_time": "2021-09-06T14:41:34.508194Z",
     "start_time": "2021-09-06T14:28:20.603415Z"
    }
   },
   "outputs": [
    {
     "data": {
      "image/png": "[encoded data removed]",
      "text/plain": [
       "<Figure size 432x288 with 1 Axes>"
      ]
     },
     "metadata": {
      "needs_background": "light"
     },
     "output_type": "display_data"
    }
   ],
   "source": [
    "gbc, best_score = optimize2(n_estimators=n_estimators,\n",
    "                            learning_rate=learning_rate,\n",
    "                            min_samples_split=min_samples_split,\n",
    "                            min_samples_leaf=min_samples_leaf,\n",
    "                            max_depth=max_depth,\n",
    "                            max_features=max_features)"
   ]
  },
  {
   "cell_type": "code",
   "execution_count": 125,
   "id": "03f28779",
   "metadata": {
    "ExecuteTime": {
     "end_time": "2021-09-06T14:42:25.794600Z",
     "start_time": "2021-09-06T14:42:25.786179Z"
    }
   },
   "outputs": [
    {
     "data": {
      "text/plain": [
       "0.676472842305144"
      ]
     },
     "execution_count": 125,
     "metadata": {},
     "output_type": "execute_result"
    }
   ],
   "source": [
    "best_score"
   ]
  },
  {
   "cell_type": "code",
   "execution_count": 126,
   "id": "03161569",
   "metadata": {
    "ExecuteTime": {
     "end_time": "2021-09-06T14:42:32.006160Z",
     "start_time": "2021-09-06T14:42:31.996082Z"
    }
   },
   "outputs": [
    {
     "data": {
      "text/plain": [
       "array([GradientBoostingClassifier(max_depth=8, max_features='sqrt',\n",
       "                                  min_samples_leaf=20, min_samples_split=250,\n",
       "                                  n_estimators=None, random_state=0)         ,\n",
       "       GradientBoostingClassifier(max_depth=None, max_features='sqrt',\n",
       "                                  min_samples_leaf=20, min_samples_split=None,\n",
       "                                  n_estimators=60, random_state=0)            ,\n",
       "       GradientBoostingClassifier(max_depth=7, max_features='sqrt',\n",
       "                                  min_samples_leaf=None, min_samples_split=250,\n",
       "                                  n_estimators=60, random_state=0)             ,\n",
       "       GradientBoostingClassifier(max_depth=7, min_samples_leaf=35,\n",
       "                                  min_samples_split=250, n_estimators=60,\n",
       "                                  random_state=0)                        ,\n",
       "       GradientBoostingClassifier(max_depth=7, min_samples_leaf=35,\n",
       "                                  min_samples_split=250, n_estimators=60,\n",
       "                                  random_state=0)                        ,\n",
       "       GradientBoostingClassifier(learning_rate=0.05, max_depth=7, max_features=27,\n",
       "                                  min_samples_leaf=35, min_samples_split=250,\n",
       "                                  n_estimators=120, random_state=0)                ,\n",
       "       GradientBoostingClassifier(learning_rate=0.01, max_depth=7, max_features=27,\n",
       "                                  min_samples_leaf=35, min_samples_split=250,\n",
       "                                  n_estimators=300, random_state=0)                ,\n",
       "       GradientBoostingClassifier(learning_rate=0.005, max_depth=7, max_features=27,\n",
       "                                  min_samples_leaf=35, min_samples_split=250,\n",
       "                                  n_estimators=120, random_state=0)                 ,\n",
       "       GradientBoostingClassifier(learning_rate=0.0025, max_depth=7, max_features=27,\n",
       "                                  min_samples_leaf=35, min_samples_split=250,\n",
       "                                  n_estimators=2000, random_state=0)                 ,\n",
       "       GradientBoostingClassifier(learning_rate=0.0005, max_depth=7, max_features=27,\n",
       "                                  min_samples_leaf=35, min_samples_split=250,\n",
       "                                  n_estimators=10000, random_state=0)                ],\n",
       "      dtype=object)"
      ]
     },
     "execution_count": 126,
     "metadata": {},
     "output_type": "execute_result"
    }
   ],
   "source": [
    "models = np.append(models, gbc)\n",
    "models"
   ]
  },
  {
   "cell_type": "code",
   "execution_count": 127,
   "id": "9f1b9d1a",
   "metadata": {
    "ExecuteTime": {
     "end_time": "2021-09-06T14:42:41.094838Z",
     "start_time": "2021-09-06T14:42:41.090588Z"
    }
   },
   "outputs": [
    {
     "data": {
      "text/plain": [
       "array([0.66934942, 0.6710223 , 0.67375489, 0.67500802, 0.67146591,\n",
       "       0.67271474, 0.66120944, 0.6761028 , 0.67647284])"
      ]
     },
     "execution_count": 127,
     "metadata": {},
     "output_type": "execute_result"
    }
   ],
   "source": [
    "scores = np.append(scores, best_score)\n",
    "scores"
   ]
  },
  {
   "cell_type": "code",
   "execution_count": 129,
   "id": "da7ee37a",
   "metadata": {
    "ExecuteTime": {
     "end_time": "2021-09-06T14:43:24.960055Z",
     "start_time": "2021-09-06T14:43:24.949835Z"
    }
   },
   "outputs": [
    {
     "name": "stdout",
     "output_type": "stream",
     "text": [
      "Model with best score:  8\n",
      "Score of the best model:  0.676472842305144\n"
     ]
    }
   ],
   "source": [
    "print('Model with best score: ', scores.argmax())\n",
    "print('Score of the best model: ', scores.max())"
   ]
  },
  {
   "cell_type": "code",
   "execution_count": 132,
   "id": "1c095976",
   "metadata": {
    "ExecuteTime": {
     "end_time": "2021-09-06T14:46:03.541022Z",
     "start_time": "2021-09-06T14:46:03.534756Z"
    }
   },
   "outputs": [
    {
     "data": {
      "text/plain": [
       "GradientBoostingClassifier(learning_rate=0.0005, max_depth=7, max_features=27,\n",
       "                           min_samples_leaf=35, min_samples_split=250,\n",
       "                           n_estimators=10000, random_state=0)"
      ]
     },
     "execution_count": 132,
     "metadata": {},
     "output_type": "execute_result"
    }
   ],
   "source": [
    "best_model = models[-1]\n",
    "best_model"
   ]
  },
  {
   "cell_type": "markdown",
   "id": "430c5442",
   "metadata": {},
   "source": [
    "### Using the best model to train and predict labels"
   ]
  },
  {
   "cell_type": "code",
   "execution_count": 133,
   "id": "a1a095f2",
   "metadata": {
    "ExecuteTime": {
     "end_time": "2021-09-06T14:57:48.212534Z",
     "start_time": "2021-09-06T14:50:53.669599Z"
    }
   },
   "outputs": [
    {
     "data": {
      "text/plain": [
       "GradientBoostingClassifier(learning_rate=0.0005, max_depth=7, max_features=27,\n",
       "                           min_samples_leaf=35, min_samples_split=250,\n",
       "                           n_estimators=10000, random_state=0)"
      ]
     },
     "execution_count": 133,
     "metadata": {},
     "output_type": "execute_result"
    }
   ],
   "source": [
    "best_model.fit(X_train, y_train)"
   ]
  },
  {
   "cell_type": "code",
   "execution_count": 134,
   "id": "9add93c0",
   "metadata": {
    "ExecuteTime": {
     "end_time": "2021-09-06T15:27:22.796059Z",
     "start_time": "2021-09-06T15:27:19.230090Z"
    }
   },
   "outputs": [],
   "source": [
    "prediction = best_model.predict_proba(X_test)"
   ]
  },
  {
   "cell_type": "code",
   "execution_count": 135,
   "id": "db3faff3",
   "metadata": {
    "ExecuteTime": {
     "end_time": "2021-09-06T15:27:27.349018Z",
     "start_time": "2021-09-06T15:27:27.345795Z"
    }
   },
   "outputs": [
    {
     "data": {
      "text/plain": [
       "array([[0.84224674, 0.15775326],\n",
       "       [0.96458015, 0.03541985],\n",
       "       [0.94480577, 0.05519423],\n",
       "       ...,\n",
       "       [0.93457958, 0.06542042],\n",
       "       [0.93537925, 0.06462075],\n",
       "       [0.87225093, 0.12774907]])"
      ]
     },
     "execution_count": 135,
     "metadata": {},
     "output_type": "execute_result"
    }
   ],
   "source": [
    "prediction"
   ]
  },
  {
   "cell_type": "code",
   "execution_count": 137,
   "id": "2e97d1e9",
   "metadata": {
    "ExecuteTime": {
     "end_time": "2021-09-06T15:27:39.765026Z",
     "start_time": "2021-09-06T15:27:39.755256Z"
    }
   },
   "outputs": [
    {
     "data": {
      "text/plain": [
       "array([0.15775326, 0.03541985, 0.05519423, ..., 0.06542042, 0.06462075,\n",
       "       0.12774907])"
      ]
     },
     "execution_count": 137,
     "metadata": {},
     "output_type": "execute_result"
    }
   ],
   "source": [
    "prediction[:,1]"
   ]
  },
  {
   "cell_type": "code",
   "execution_count": 140,
   "id": "623ba725",
   "metadata": {
    "ExecuteTime": {
     "end_time": "2021-09-06T15:28:23.630825Z",
     "start_time": "2021-09-06T15:28:23.624656Z"
    }
   },
   "outputs": [
    {
     "data": {
      "text/plain": [
       "0.6842654079165517"
      ]
     },
     "execution_count": 140,
     "metadata": {},
     "output_type": "execute_result"
    }
   ],
   "source": [
    "roc_auc_score(y_test, prediction[:,1])"
   ]
  },
  {
   "cell_type": "markdown",
   "id": "1b5ceb33",
   "metadata": {},
   "source": [
    "## Conclusion"
   ]
  },
  {
   "cell_type": "markdown",
   "id": "d85279fa",
   "metadata": {},
   "source": [
    "## Resultados KDD Cup 2009\n",
    "\n",
    "https://www.kdd.org/kdd-cup/view/kdd-cup-2009/Results\n",
    "\n",
    "## Conclusões\n",
    "\n",
    "> Nesse exercício, foi possível modelar a possibilidade do cancelamento da conta com uma área sob a curva (AUC) de 0.6868\n",
    "\n",
    "> É bom lembrar que AUC = 0.5 indica a linha de base, no caso de um modelo que faz predições aleatórias, e AUC = 1.0 indica um modelo ideal, que faz predições perfeitas\n",
    "\n",
    "> Pode parecer que o AUC alcançado não é muito alto, mas também temos que considerar que o score mais alto no desafio público foi de 0.76\n",
    "\n",
    "> Isso indica que, muito possivelmente, os dados fornecidos não são suficientes para fazer a modelagem perfeita do cancelamento da conta, e isso é sempre algo que devemos levar em consideração quando estamos tentando desenvolver modelos para problemas que não temos qualquer conhecimento prévio\n",
    "\n",
    "> Fazendo uma analogia simples, seria como tentar predizer o peso de uma pessoa usando uma base de dados com apenas peso e altura de uma população: nós até conseguiríamos uma resposta razoável, já que as duas variáveis são correlacionadas, mas ela não seria perfeita simplesmente porque mais variáveis têm impacto no peso além da altura. É possível, portanto, que o maior score indique o melhor modelo que esses dados são capazes de fornecer\n",
    "\n",
    "> Também devemos nos lembrar de que esses desafios geralmente são lançados sem que exista uma resposta prévia, eles servem justamente para que a própria comunidade tente encontrar soluções e comparar seus resultados entre si, e não com um \"padrão ouro\" ou a \"resposta certa\"\n",
    "\n",
    "> Esses desafios são uma ótima oportunidade para se familiarizar com o ambiente real da carreira de um cientista de dados, e para conhecer e implementar na prática métodos e abordagens novas.\n",
    "\n",
    "## Melhorias\n",
    "\n",
    "> Testar outros modelos sempre é uma opção que se deve considerar. Nesse exercício, nós paramos nos classificadores do tipo gradient boosting, mas também poderíamos ter considerado modelos baseados em árvores de decisão mais novos, como o XGBoost, e até em redes neurais\n",
    "\n",
    "> Os dados estão mascarados, o que dificulta qualquer feature engineering, já que para isso geralmente nós tentamos transformar as variáveis em função do conhecimento prévio que temos sobre elas. Por exemplo, se tivéssemos datas, poderíamos criar uma nova variável refletindo as estações do ano, se julgássemos relevante, mas nesse exercício ficamos restritos a tratar os dados com métricas estritamente numéricas, como o número de categorias que uma variável categórica possui, por não sabermos a que a variável se refere\n",
    "\n",
    "> Mesmo com essas restrições, a seleção das melhores variáveis pode ser feita apenas considerando a natureza dos dados, e não da própria variável, e é possível testar outros métodos de seleção além daquele que nós usamos (seleção baseada em árvore de decisão)\n",
    "\n",
    "> Também é possível melhorar o processo de fine-tuning da seguinte maneira: primeiro nós treinamos um hiperparâmetro num intervalo maior, por exemplo, [1, 2, 3, 4, 5], e depois que nós descobrimos o melhor parâmetro nessa faixa, por exemplo [2], podemos treinar de novo nas imediações desse valor, por exemplo [1.5, 2, 2.5], e assim por diante\n",
    "\n",
    "> Ao final do treinamento apresentado no exercício (MODELO 8), nós observamos que a métrica continuava em tendência de aumentar, então talvez seja interessante continuar testando outros valores para learning rate/número de épocas\n",
    "\n",
    "> Também é útil fazer um grid search com todos os parâmetros ao mesmo tempo, já que não necessariamente cada parâmetro se comporta da forma independente que nós consideramos, mas para isso é bom usar poucos valores para cada parâmetro (por isso é bom fazer uma seleção prévia da forma que nós fizemos), ou teríamos um número de modelos excessivamente grande pra testar, o que demanda maior capacidade de processamento"
   ]
  },
  {
   "cell_type": "code",
   "execution_count": null,
   "id": "16d5be74",
   "metadata": {},
   "outputs": [],
   "source": []
  }
 ],
 "metadata": {
  "kernelspec": {
   "display_name": "Python 3.9.5 64-bit",
   "language": "python",
   "name": "python395jvsc74a57bd0f9f85f796d01129d0dd105a088854619f454435301f6ffec2fea96ecbd9be4ac"
  },
  "language_info": {
   "codemirror_mode": {
    "name": "ipython",
    "version": 3
   },
   "file_extension": ".py",
   "mimetype": "text/x-python",
   "name": "python",
   "nbconvert_exporter": "python",
   "pygments_lexer": "ipython3",
   "version": "3.8.8"
  },
  "toc": {
   "base_numbering": 1,
   "nav_menu": {},
   "number_sections": true,
   "sideBar": true,
   "skip_h1_title": false,
   "title_cell": "Table of Contents",
   "title_sidebar": "Contents",
   "toc_cell": false,
   "toc_position": {},
   "toc_section_display": true,
   "toc_window_display": true
  }
 },
 "nbformat": 4,
 "nbformat_minor": 5
}
